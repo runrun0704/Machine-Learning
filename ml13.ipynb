{
 "cells": [
  {
   "cell_type": "code",
   "execution_count": 1,
   "id": "e556318c-84aa-4dca-9b7f-90f63686c1cd",
   "metadata": {},
   "outputs": [
    {
     "data": {
      "text/plain": [
       "LinearRegression()"
      ]
     },
     "execution_count": 1,
     "metadata": {},
     "output_type": "execute_result"
    }
   ],
   "source": [
    "import pandas as pd\n",
    "\n",
    "df = pd.read_csv('cinema.csv')\n",
    "df = df.fillna(df.mean())\n",
    "x = df.loc[:, 'SNS1':'original']\n",
    "t = df['sales']\n",
    "\n",
    "from sklearn.linear_model import LinearRegression\n",
    "model = LinearRegression()\n",
    "model.fit(x, t)"
   ]
  },
  {
   "cell_type": "code",
   "execution_count": 2,
   "id": "785232dd-e0b8-4029-b847-3881a6528fe7",
   "metadata": {},
   "outputs": [
    {
     "data": {
      "text/plain": [
       "151986.03957624512"
      ]
     },
     "execution_count": 2,
     "metadata": {},
     "output_type": "execute_result"
    }
   ],
   "source": [
    "from sklearn.metrics import mean_squared_error\n",
    "\n",
    "pred = model.predict(x)\n",
    "mse = mean_squared_error(pred, t)\n",
    "mse"
   ]
  },
  {
   "cell_type": "code",
   "execution_count": 3,
   "id": "6cd76cc2-d542-41b9-b6e5-97f8dc684cfa",
   "metadata": {},
   "outputs": [
    {
     "data": {
      "text/plain": [
       "389.853869515547"
      ]
     },
     "execution_count": 3,
     "metadata": {},
     "output_type": "execute_result"
    }
   ],
   "source": [
    "import math\n",
    "math.sqrt(mse)"
   ]
  },
  {
   "cell_type": "code",
   "execution_count": 4,
   "id": "7dd4b913-d82f-4fe3-941c-2d31ac508566",
   "metadata": {},
   "outputs": [
    {
     "name": "stdout",
     "output_type": "stream",
     "text": [
      "RMSE3.8944404818493075\n",
      "MAE3.5\n"
     ]
    }
   ],
   "source": [
    "from sklearn.metrics import mean_absolute_error\n",
    "yosoku = [2, 3, 5, 7, 11, 13]\n",
    "target = [3, 5, 8, 11, 16, 19]\n",
    "\n",
    "mse = mean_squared_error(yosoku, target)\n",
    "print(f\"RMSE{math.sqrt(mse)}\")\n",
    "print(f\"MAE{mean_absolute_error(yosoku, target)}\")"
   ]
  },
  {
   "cell_type": "code",
   "execution_count": 5,
   "id": "d0ab5bb2-9b2d-42f2-b215-476053c72503",
   "metadata": {},
   "outputs": [
    {
     "name": "stdout",
     "output_type": "stream",
     "text": [
      "RMSE9.411239481143202\n",
      "MAE6.285714285714286\n"
     ]
    }
   ],
   "source": [
    "yosoku = [2, 3, 5, 7, 11, 13, 46]\n",
    "target = [3, 5, 8, 11, 16, 19, 23]\n",
    "mse = mean_squared_error(yosoku, target)\n",
    "print(f\"RMSE{math.sqrt(mse)}\")\n",
    "print(f\"MAE{mean_absolute_error(yosoku, target)}\")"
   ]
  },
  {
   "cell_type": "code",
   "execution_count": 6,
   "id": "baac5d39-78af-4f97-b881-968e49d52eb1",
   "metadata": {},
   "outputs": [],
   "source": [
    "df = pd.read_csv('Survived.csv')\n",
    "df = df.fillna(df.mean())\n",
    "\n",
    "x = df[['Pclass', 'Age']]\n",
    "t = df['Survived']"
   ]
  },
  {
   "cell_type": "code",
   "execution_count": 7,
   "id": "27669f63-f78a-4777-8f32-ab6da203ea7a",
   "metadata": {},
   "outputs": [
    {
     "data": {
      "text/plain": [
       "DecisionTreeClassifier(max_depth=2, random_state=0)"
      ]
     },
     "execution_count": 7,
     "metadata": {},
     "output_type": "execute_result"
    }
   ],
   "source": [
    "from sklearn import tree\n",
    "model = tree.DecisionTreeClassifier(max_depth = 2, random_state = 0)\n",
    "model.fit(x, t)"
   ]
  },
  {
   "cell_type": "code",
   "execution_count": 11,
   "id": "24729ccc-8fa9-46bf-8e96-28df6a987c0c",
   "metadata": {},
   "outputs": [
    {
     "data": {
      "text/html": [
       "<div>\n",
       "<style scoped>\n",
       "    .dataframe tbody tr th:only-of-type {\n",
       "        vertical-align: middle;\n",
       "    }\n",
       "\n",
       "    .dataframe tbody tr th {\n",
       "        vertical-align: top;\n",
       "    }\n",
       "\n",
       "    .dataframe thead th {\n",
       "        text-align: right;\n",
       "    }\n",
       "</style>\n",
       "<table border=\"1\" class=\"dataframe\">\n",
       "  <thead>\n",
       "    <tr style=\"text-align: right;\">\n",
       "      <th></th>\n",
       "      <th>precision</th>\n",
       "      <th>recall</th>\n",
       "      <th>f1-score</th>\n",
       "      <th>support</th>\n",
       "    </tr>\n",
       "  </thead>\n",
       "  <tbody>\n",
       "    <tr>\n",
       "      <th>0</th>\n",
       "      <td>0.778742</td>\n",
       "      <td>0.653916</td>\n",
       "      <td>0.710891</td>\n",
       "      <td>549.000000</td>\n",
       "    </tr>\n",
       "    <tr>\n",
       "      <th>1</th>\n",
       "      <td>0.558140</td>\n",
       "      <td>0.701754</td>\n",
       "      <td>0.621762</td>\n",
       "      <td>342.000000</td>\n",
       "    </tr>\n",
       "    <tr>\n",
       "      <th>accuracy</th>\n",
       "      <td>0.672278</td>\n",
       "      <td>0.672278</td>\n",
       "      <td>0.672278</td>\n",
       "      <td>0.672278</td>\n",
       "    </tr>\n",
       "    <tr>\n",
       "      <th>macro avg</th>\n",
       "      <td>0.668441</td>\n",
       "      <td>0.677835</td>\n",
       "      <td>0.666326</td>\n",
       "      <td>891.000000</td>\n",
       "    </tr>\n",
       "    <tr>\n",
       "      <th>weighted avg</th>\n",
       "      <td>0.694066</td>\n",
       "      <td>0.672278</td>\n",
       "      <td>0.676680</td>\n",
       "      <td>891.000000</td>\n",
       "    </tr>\n",
       "  </tbody>\n",
       "</table>\n",
       "</div>"
      ],
      "text/plain": [
       "              precision    recall  f1-score     support\n",
       "0              0.778742  0.653916  0.710891  549.000000\n",
       "1              0.558140  0.701754  0.621762  342.000000\n",
       "accuracy       0.672278  0.672278  0.672278    0.672278\n",
       "macro avg      0.668441  0.677835  0.666326  891.000000\n",
       "weighted avg   0.694066  0.672278  0.676680  891.000000"
      ]
     },
     "execution_count": 11,
     "metadata": {},
     "output_type": "execute_result"
    }
   ],
   "source": [
    "from sklearn.metrics import classification_report\n",
    "pred = model.predict(x)\n",
    "out_put = classification_report(y_pred = pred, y_true = t, output_dict = True)\n",
    "df2 = pd.DataFrame(out_put)\n",
    "df2.T"
   ]
  },
  {
   "cell_type": "code",
   "execution_count": 12,
   "id": "3bf44f4b-53a1-41a1-a55b-a95e3fcd9216",
   "metadata": {},
   "outputs": [],
   "source": [
    "df = pd.read_csv('cinema.csv')\n",
    "\n",
    "df = df.fillna(df.mean())\n",
    "x = df.loc[:, 'SNS1':'original']\n",
    "t = df['sales']"
   ]
  },
  {
   "cell_type": "code",
   "execution_count": 13,
   "id": "8dd400d2-8d49-4c99-acf5-22ca3f241146",
   "metadata": {},
   "outputs": [],
   "source": [
    "from sklearn.model_selection import KFold\n",
    "kf = KFold(n_splits = 3, shuffle = True, random_state = 0)"
   ]
  },
  {
   "cell_type": "code",
   "execution_count": 16,
   "id": "4b26db6d-7cd0-442d-bcd6-7cf8a6fcc676",
   "metadata": {},
   "outputs": [
    {
     "data": {
      "text/html": [
       "<div>\n",
       "<style scoped>\n",
       "    .dataframe tbody tr th:only-of-type {\n",
       "        vertical-align: middle;\n",
       "    }\n",
       "\n",
       "    .dataframe tbody tr th {\n",
       "        vertical-align: top;\n",
       "    }\n",
       "\n",
       "    .dataframe thead th {\n",
       "        text-align: right;\n",
       "    }\n",
       "</style>\n",
       "<table border=\"1\" class=\"dataframe\">\n",
       "  <thead>\n",
       "    <tr style=\"text-align: right;\">\n",
       "      <th></th>\n",
       "      <th>fit_time</th>\n",
       "      <th>score_time</th>\n",
       "      <th>test_score</th>\n",
       "      <th>train_score</th>\n",
       "    </tr>\n",
       "  </thead>\n",
       "  <tbody>\n",
       "    <tr>\n",
       "      <th>0</th>\n",
       "      <td>0.005459</td>\n",
       "      <td>0.002847</td>\n",
       "      <td>0.724651</td>\n",
       "      <td>0.769285</td>\n",
       "    </tr>\n",
       "    <tr>\n",
       "      <th>1</th>\n",
       "      <td>0.003646</td>\n",
       "      <td>0.001938</td>\n",
       "      <td>0.717408</td>\n",
       "      <td>0.763681</td>\n",
       "    </tr>\n",
       "    <tr>\n",
       "      <th>2</th>\n",
       "      <td>0.002621</td>\n",
       "      <td>0.001741</td>\n",
       "      <td>0.759756</td>\n",
       "      <td>0.757801</td>\n",
       "    </tr>\n",
       "  </tbody>\n",
       "</table>\n",
       "</div>"
      ],
      "text/plain": [
       "   fit_time  score_time  test_score  train_score\n",
       "0  0.005459    0.002847    0.724651     0.769285\n",
       "1  0.003646    0.001938    0.717408     0.763681\n",
       "2  0.002621    0.001741    0.759756     0.757801"
      ]
     },
     "execution_count": 16,
     "metadata": {},
     "output_type": "execute_result"
    }
   ],
   "source": [
    "from sklearn.model_selection import cross_validate\n",
    "model = LinearRegression()\n",
    "result = cross_validate(model, x, t, cv = kf, scoring = 'r2', return_train_score = True)\n",
    "df2 = pd.DataFrame(result)\n",
    "df2"
   ]
  },
  {
   "cell_type": "code",
   "execution_count": 17,
   "id": "c9567d76-7988-4b1d-a6ae-a53432a8222d",
   "metadata": {},
   "outputs": [
    {
     "data": {
      "text/plain": [
       "0.733938254177434"
      ]
     },
     "execution_count": 17,
     "metadata": {},
     "output_type": "execute_result"
    }
   ],
   "source": [
    "sum(result['test_score'] / len(result['test_score']))"
   ]
  },
  {
   "cell_type": "code",
   "execution_count": 22,
   "id": "35d13701-ee6b-4cae-8027-42748769b79b",
   "metadata": {},
   "outputs": [],
   "source": [
    "from sklearn.model_selection import StratifiedKFold\n",
    "skf = StratifiedKFold(n_splits = 3, shuffle = True, random_state = 0) "
   ]
  },
  {
   "cell_type": "code",
   "execution_count": null,
   "id": "6eb7799b-c353-4de3-8681-e2383f2fdf98",
   "metadata": {},
   "outputs": [],
   "source": [
    "sklearn"
   ]
  }
 ],
 "metadata": {
  "kernelspec": {
   "display_name": "Python 3",
   "language": "python",
   "name": "python3"
  },
  "language_info": {
   "codemirror_mode": {
    "name": "ipython",
    "version": 3
   },
   "file_extension": ".py",
   "mimetype": "text/x-python",
   "name": "python",
   "nbconvert_exporter": "python",
   "pygments_lexer": "ipython3",
   "version": "3.8.8"
  }
 },
 "nbformat": 4,
 "nbformat_minor": 5
}
