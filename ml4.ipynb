{
 "cells": [
  {
   "cell_type": "code",
   "execution_count": 1,
   "id": "1b433a58-862f-4936-9390-f07957a8ce15",
   "metadata": {},
   "outputs": [],
   "source": [
    "import pandas as pd"
   ]
  },
  {
   "cell_type": "code",
   "execution_count": 14,
   "id": "a9f28c4e-bcf7-4dcf-9567-bc6b7f60953e",
   "metadata": {},
   "outputs": [
    {
     "data": {
      "text/html": [
       "<div>\n",
       "<style scoped>\n",
       "    .dataframe tbody tr th:only-of-type {\n",
       "        vertical-align: middle;\n",
       "    }\n",
       "\n",
       "    .dataframe tbody tr th {\n",
       "        vertical-align: top;\n",
       "    }\n",
       "\n",
       "    .dataframe thead th {\n",
       "        text-align: right;\n",
       "    }\n",
       "</style>\n",
       "<table border=\"1\" class=\"dataframe\">\n",
       "  <thead>\n",
       "    <tr style=\"text-align: right;\">\n",
       "      <th></th>\n",
       "      <th>身長</th>\n",
       "      <th>体重</th>\n",
       "      <th>年代</th>\n",
       "      <th>派閥</th>\n",
       "    </tr>\n",
       "  </thead>\n",
       "  <tbody>\n",
       "    <tr>\n",
       "      <th>0</th>\n",
       "      <td>170</td>\n",
       "      <td>60</td>\n",
       "      <td>10</td>\n",
       "      <td>きのこ</td>\n",
       "    </tr>\n",
       "    <tr>\n",
       "      <th>1</th>\n",
       "      <td>172</td>\n",
       "      <td>65</td>\n",
       "      <td>20</td>\n",
       "      <td>きのこ</td>\n",
       "    </tr>\n",
       "    <tr>\n",
       "      <th>2</th>\n",
       "      <td>170</td>\n",
       "      <td>60</td>\n",
       "      <td>30</td>\n",
       "      <td>たけのこ</td>\n",
       "    </tr>\n",
       "    <tr>\n",
       "      <th>3</th>\n",
       "      <td>170</td>\n",
       "      <td>65</td>\n",
       "      <td>40</td>\n",
       "      <td>きのこ</td>\n",
       "    </tr>\n",
       "    <tr>\n",
       "      <th>4</th>\n",
       "      <td>177</td>\n",
       "      <td>65</td>\n",
       "      <td>10</td>\n",
       "      <td>たけのこ</td>\n",
       "    </tr>\n",
       "  </tbody>\n",
       "</table>\n",
       "</div>"
      ],
      "text/plain": [
       "    身長  体重  年代    派閥\n",
       "0  170  60  10   きのこ\n",
       "1  172  65  20   きのこ\n",
       "2  170  60  30  たけのこ\n",
       "3  170  65  40   きのこ\n",
       "4  177  65  10  たけのこ"
      ]
     },
     "execution_count": 14,
     "metadata": {},
     "output_type": "execute_result"
    }
   ],
   "source": [
    "sample = pd.read_csv(\"KvsT.csv\")\n",
    "sample.head()"
   ]
  },
  {
   "cell_type": "code",
   "execution_count": 8,
   "id": "4693c20d-1723-4e77-8596-bd27e457a273",
   "metadata": {},
   "outputs": [
    {
     "data": {
      "text/html": [
       "<div>\n",
       "<style scoped>\n",
       "    .dataframe tbody tr th:only-of-type {\n",
       "        vertical-align: middle;\n",
       "    }\n",
       "\n",
       "    .dataframe tbody tr th {\n",
       "        vertical-align: top;\n",
       "    }\n",
       "\n",
       "    .dataframe thead th {\n",
       "        text-align: right;\n",
       "    }\n",
       "</style>\n",
       "<table border=\"1\" class=\"dataframe\">\n",
       "  <thead>\n",
       "    <tr style=\"text-align: right;\">\n",
       "      <th></th>\n",
       "      <th>松田の労働時間</th>\n",
       "      <th>浅木の労働時間</th>\n",
       "    </tr>\n",
       "  </thead>\n",
       "  <tbody>\n",
       "    <tr>\n",
       "      <th>0</th>\n",
       "      <td>160</td>\n",
       "      <td>161</td>\n",
       "    </tr>\n",
       "    <tr>\n",
       "      <th>1</th>\n",
       "      <td>160</td>\n",
       "      <td>179</td>\n",
       "    </tr>\n",
       "  </tbody>\n",
       "</table>\n",
       "</div>"
      ],
      "text/plain": [
       "   松田の労働時間  浅木の労働時間\n",
       "0      160      161\n",
       "1      160      179"
      ]
     },
     "execution_count": 8,
     "metadata": {},
     "output_type": "execute_result"
    }
   ],
   "source": [
    "data = {\n",
    "    '松田の労働時間' :[160, 160],\n",
    "    '浅木の労働時間' :[161, 179],\n",
    "}\n",
    "df = pd.DataFrame(data)\n",
    "df"
   ]
  },
  {
   "cell_type": "code",
   "execution_count": 11,
   "id": "f63eb403-69a8-4ab2-b7dd-57d39a0f57ea",
   "metadata": {},
   "outputs": [
    {
     "name": "stdout",
     "output_type": "stream",
     "text": [
      "<class 'pandas.core.frame.DataFrame'>\n"
     ]
    },
    {
     "data": {
      "text/plain": [
       "(2, 2)"
      ]
     },
     "execution_count": 11,
     "metadata": {},
     "output_type": "execute_result"
    }
   ],
   "source": [
    "print(type(df))\n",
    "df.shape"
   ]
  },
  {
   "cell_type": "code",
   "execution_count": 15,
   "id": "78a177c3-a983-49af-b6c3-c78d9baf4b0e",
   "metadata": {},
   "outputs": [
    {
     "data": {
      "text/plain": [
       "0     170\n",
       "1     172\n",
       "2     170\n",
       "3     170\n",
       "4     177\n",
       "5     168\n",
       "6     169\n",
       "7     170\n",
       "8     180\n",
       "9     170\n",
       "10    165\n",
       "11    170\n",
       "12    175\n",
       "13    170\n",
       "14    170\n",
       "15    155\n",
       "16    160\n",
       "17    170\n",
       "18    175\n",
       "Name: 身長, dtype: int64"
      ]
     },
     "execution_count": 15,
     "metadata": {},
     "output_type": "execute_result"
    }
   ],
   "source": [
    "sample[\"身長\"]"
   ]
  },
  {
   "cell_type": "code",
   "execution_count": 18,
   "id": "0e142bf6-66ba-4362-8404-c1a73a04073f",
   "metadata": {},
   "outputs": [
    {
     "data": {
      "text/html": [
       "<div>\n",
       "<style scoped>\n",
       "    .dataframe tbody tr th:only-of-type {\n",
       "        vertical-align: middle;\n",
       "    }\n",
       "\n",
       "    .dataframe tbody tr th {\n",
       "        vertical-align: top;\n",
       "    }\n",
       "\n",
       "    .dataframe thead th {\n",
       "        text-align: right;\n",
       "    }\n",
       "</style>\n",
       "<table border=\"1\" class=\"dataframe\">\n",
       "  <thead>\n",
       "    <tr style=\"text-align: right;\">\n",
       "      <th></th>\n",
       "      <th>身長</th>\n",
       "      <th>体重</th>\n",
       "      <th>年代</th>\n",
       "    </tr>\n",
       "  </thead>\n",
       "  <tbody>\n",
       "    <tr>\n",
       "      <th>0</th>\n",
       "      <td>170</td>\n",
       "      <td>60</td>\n",
       "      <td>10</td>\n",
       "    </tr>\n",
       "    <tr>\n",
       "      <th>1</th>\n",
       "      <td>172</td>\n",
       "      <td>65</td>\n",
       "      <td>20</td>\n",
       "    </tr>\n",
       "    <tr>\n",
       "      <th>2</th>\n",
       "      <td>170</td>\n",
       "      <td>60</td>\n",
       "      <td>30</td>\n",
       "    </tr>\n",
       "    <tr>\n",
       "      <th>3</th>\n",
       "      <td>170</td>\n",
       "      <td>65</td>\n",
       "      <td>40</td>\n",
       "    </tr>\n",
       "    <tr>\n",
       "      <th>4</th>\n",
       "      <td>177</td>\n",
       "      <td>65</td>\n",
       "      <td>10</td>\n",
       "    </tr>\n",
       "    <tr>\n",
       "      <th>5</th>\n",
       "      <td>168</td>\n",
       "      <td>55</td>\n",
       "      <td>20</td>\n",
       "    </tr>\n",
       "    <tr>\n",
       "      <th>6</th>\n",
       "      <td>169</td>\n",
       "      <td>65</td>\n",
       "      <td>30</td>\n",
       "    </tr>\n",
       "    <tr>\n",
       "      <th>7</th>\n",
       "      <td>170</td>\n",
       "      <td>62</td>\n",
       "      <td>40</td>\n",
       "    </tr>\n",
       "    <tr>\n",
       "      <th>8</th>\n",
       "      <td>180</td>\n",
       "      <td>70</td>\n",
       "      <td>10</td>\n",
       "    </tr>\n",
       "    <tr>\n",
       "      <th>9</th>\n",
       "      <td>170</td>\n",
       "      <td>68</td>\n",
       "      <td>20</td>\n",
       "    </tr>\n",
       "    <tr>\n",
       "      <th>10</th>\n",
       "      <td>165</td>\n",
       "      <td>65</td>\n",
       "      <td>40</td>\n",
       "    </tr>\n",
       "    <tr>\n",
       "      <th>11</th>\n",
       "      <td>170</td>\n",
       "      <td>72</td>\n",
       "      <td>20</td>\n",
       "    </tr>\n",
       "    <tr>\n",
       "      <th>12</th>\n",
       "      <td>175</td>\n",
       "      <td>77</td>\n",
       "      <td>40</td>\n",
       "    </tr>\n",
       "    <tr>\n",
       "      <th>13</th>\n",
       "      <td>170</td>\n",
       "      <td>65</td>\n",
       "      <td>30</td>\n",
       "    </tr>\n",
       "    <tr>\n",
       "      <th>14</th>\n",
       "      <td>170</td>\n",
       "      <td>65</td>\n",
       "      <td>30</td>\n",
       "    </tr>\n",
       "    <tr>\n",
       "      <th>15</th>\n",
       "      <td>155</td>\n",
       "      <td>56</td>\n",
       "      <td>20</td>\n",
       "    </tr>\n",
       "    <tr>\n",
       "      <th>16</th>\n",
       "      <td>160</td>\n",
       "      <td>56</td>\n",
       "      <td>20</td>\n",
       "    </tr>\n",
       "    <tr>\n",
       "      <th>17</th>\n",
       "      <td>170</td>\n",
       "      <td>65</td>\n",
       "      <td>40</td>\n",
       "    </tr>\n",
       "    <tr>\n",
       "      <th>18</th>\n",
       "      <td>175</td>\n",
       "      <td>60</td>\n",
       "      <td>20</td>\n",
       "    </tr>\n",
       "  </tbody>\n",
       "</table>\n",
       "</div>"
      ],
      "text/plain": [
       "     身長  体重  年代\n",
       "0   170  60  10\n",
       "1   172  65  20\n",
       "2   170  60  30\n",
       "3   170  65  40\n",
       "4   177  65  10\n",
       "5   168  55  20\n",
       "6   169  65  30\n",
       "7   170  62  40\n",
       "8   180  70  10\n",
       "9   170  68  20\n",
       "10  165  65  40\n",
       "11  170  72  20\n",
       "12  175  77  40\n",
       "13  170  65  30\n",
       "14  170  65  30\n",
       "15  155  56  20\n",
       "16  160  56  20\n",
       "17  170  65  40\n",
       "18  175  60  20"
      ]
     },
     "execution_count": 18,
     "metadata": {},
     "output_type": "execute_result"
    }
   ],
   "source": [
    "xcol =[\"身長\",\"体重\",\"年代\"]\n",
    "x = sample[xcol]\n",
    "x"
   ]
  },
  {
   "cell_type": "code",
   "execution_count": 19,
   "id": "980b7f2f-35c8-4ad8-8dad-1c0bb72623ff",
   "metadata": {},
   "outputs": [
    {
     "data": {
      "text/plain": [
       "0      きのこ\n",
       "1      きのこ\n",
       "2     たけのこ\n",
       "3      きのこ\n",
       "4     たけのこ\n",
       "5      きのこ\n",
       "6     たけのこ\n",
       "7     たけのこ\n",
       "8     たけのこ\n",
       "9      きのこ\n",
       "10    たけのこ\n",
       "11     きのこ\n",
       "12    たけのこ\n",
       "13    たけのこ\n",
       "14    たけのこ\n",
       "15     きのこ\n",
       "16    たけのこ\n",
       "17     きのこ\n",
       "18    たけのこ\n",
       "Name: 派閥, dtype: object"
      ]
     },
     "execution_count": 19,
     "metadata": {},
     "output_type": "execute_result"
    }
   ],
   "source": [
    "t = sample[\"派閥\"]\n",
    "t"
   ]
  },
  {
   "cell_type": "code",
   "execution_count": 20,
   "id": "0da0e4ba-8e54-4e9b-94fd-c818f6744ee3",
   "metadata": {},
   "outputs": [],
   "source": [
    "from sklearn import tree"
   ]
  },
  {
   "cell_type": "code",
   "execution_count": 21,
   "id": "d8e70def-e171-4de5-a813-13392f9d8f57",
   "metadata": {},
   "outputs": [
    {
     "data": {
      "text/plain": [
       "DecisionTreeClassifier(random_state=0)"
      ]
     },
     "execution_count": 21,
     "metadata": {},
     "output_type": "execute_result"
    }
   ],
   "source": [
    "model = tree.DecisionTreeClassifier(random_state = 0)\n",
    "\n",
    "model.fit(x, t)"
   ]
  },
  {
   "cell_type": "code",
   "execution_count": 23,
   "id": "42263cdc-cb72-44b5-b86d-b57b53f274ab",
   "metadata": {},
   "outputs": [
    {
     "data": {
      "text/plain": [
       "array(['たけのこ'], dtype=object)"
      ]
     },
     "execution_count": 23,
     "metadata": {},
     "output_type": "execute_result"
    }
   ],
   "source": [
    "taro = [[300, 70, 20]]\n",
    "\n",
    "model.predict(taro)"
   ]
  },
  {
   "cell_type": "code",
   "execution_count": 24,
   "id": "f0dc3c1e-0651-42ef-9686-330890364aaa",
   "metadata": {},
   "outputs": [
    {
     "data": {
      "text/plain": [
       "1.0"
      ]
     },
     "execution_count": 24,
     "metadata": {},
     "output_type": "execute_result"
    }
   ],
   "source": [
    "model.score(x, t)"
   ]
  },
  {
   "cell_type": "code",
   "execution_count": 25,
   "id": "a2b1cc42-1f5f-4d65-84b4-1d57f7d8b97c",
   "metadata": {},
   "outputs": [],
   "source": [
    "import pickle\n",
    "\n",
    "with open('KinokoTakenoko.pkl', 'wb') as f:\n",
    "    pickle.dump(model, f)"
   ]
  },
  {
   "cell_type": "code",
   "execution_count": 28,
   "id": "f284ae30-f5dd-40b0-8a3c-44fa119e47de",
   "metadata": {},
   "outputs": [],
   "source": [
    "with open('KinokoTakenoko.pkl', 'rb') as f:\n",
    "    model2 = pickle.load(f)"
   ]
  },
  {
   "cell_type": "markdown",
   "id": "8ec6752c-f4a4-4945-a05d-e41d1c1ce2d0",
   "metadata": {},
   "source": [
    "model2.score(x, t9"
   ]
  },
  {
   "cell_type": "code",
   "execution_count": 30,
   "id": "90ebdf56-28ca-4747-9b13-d5d4dcce30b6",
   "metadata": {},
   "outputs": [
    {
     "data": {
      "text/plain": [
       "array(['たけのこ'], dtype=object)"
      ]
     },
     "execution_count": 30,
     "metadata": {},
     "output_type": "execute_result"
    }
   ],
   "source": [
    "suzuki = [[189, 75, 30]]\n",
    "model2.predict(suzuki)"
   ]
  },
  {
   "cell_type": "code",
   "execution_count": 32,
   "id": "c2691a2b-d68d-4692-8812-8e1e1439c5a3",
   "metadata": {},
   "outputs": [
    {
     "data": {
      "text/plain": [
       "1.0"
      ]
     },
     "execution_count": 32,
     "metadata": {},
     "output_type": "execute_result"
    }
   ],
   "source": [
    "model2.score(x,t)"
   ]
  },
  {
   "cell_type": "code",
   "execution_count": 33,
   "id": "7425f4d5-f7ef-4899-8933-afc04b86f35d",
   "metadata": {},
   "outputs": [],
   "source": [
    "df = pd.read_csv('ex1.csv')"
   ]
  },
  {
   "cell_type": "code",
   "execution_count": 34,
   "id": "5516353d-a25b-4f3e-a8d5-0223936e0702",
   "metadata": {},
   "outputs": [
    {
     "data": {
      "text/html": [
       "<div>\n",
       "<style scoped>\n",
       "    .dataframe tbody tr th:only-of-type {\n",
       "        vertical-align: middle;\n",
       "    }\n",
       "\n",
       "    .dataframe tbody tr th {\n",
       "        vertical-align: top;\n",
       "    }\n",
       "\n",
       "    .dataframe thead th {\n",
       "        text-align: right;\n",
       "    }\n",
       "</style>\n",
       "<table border=\"1\" class=\"dataframe\">\n",
       "  <thead>\n",
       "    <tr style=\"text-align: right;\">\n",
       "      <th></th>\n",
       "      <th>x0</th>\n",
       "      <th>x1</th>\n",
       "      <th>x2</th>\n",
       "      <th>x3</th>\n",
       "      <th>target</th>\n",
       "    </tr>\n",
       "  </thead>\n",
       "  <tbody>\n",
       "    <tr>\n",
       "      <th>0</th>\n",
       "      <td>4.831144</td>\n",
       "      <td>4.695477</td>\n",
       "      <td>5.082239</td>\n",
       "      <td>4.501977</td>\n",
       "      <td>0</td>\n",
       "    </tr>\n",
       "    <tr>\n",
       "      <th>1</th>\n",
       "      <td>1.460716</td>\n",
       "      <td>1.216714</td>\n",
       "      <td>7.632439</td>\n",
       "      <td>2.359443</td>\n",
       "      <td>0</td>\n",
       "    </tr>\n",
       "    <tr>\n",
       "      <th>2</th>\n",
       "      <td>4.011018</td>\n",
       "      <td>4.515939</td>\n",
       "      <td>5.935904</td>\n",
       "      <td>5.981296</td>\n",
       "      <td>1</td>\n",
       "    </tr>\n",
       "    <tr>\n",
       "      <th>3</th>\n",
       "      <td>5.982382</td>\n",
       "      <td>4.965863</td>\n",
       "      <td>3.890340</td>\n",
       "      <td>2.480491</td>\n",
       "      <td>0</td>\n",
       "    </tr>\n",
       "    <tr>\n",
       "      <th>4</th>\n",
       "      <td>5.439188</td>\n",
       "      <td>5.911560</td>\n",
       "      <td>4.827872</td>\n",
       "      <td>6.653825</td>\n",
       "      <td>1</td>\n",
       "    </tr>\n",
       "    <tr>\n",
       "      <th>...</th>\n",
       "      <td>...</td>\n",
       "      <td>...</td>\n",
       "      <td>...</td>\n",
       "      <td>...</td>\n",
       "      <td>...</td>\n",
       "    </tr>\n",
       "    <tr>\n",
       "      <th>95</th>\n",
       "      <td>4.343917</td>\n",
       "      <td>5.549315</td>\n",
       "      <td>5.925124</td>\n",
       "      <td>8.262054</td>\n",
       "      <td>1</td>\n",
       "    </tr>\n",
       "    <tr>\n",
       "      <th>96</th>\n",
       "      <td>5.612101</td>\n",
       "      <td>5.065338</td>\n",
       "      <td>4.338867</td>\n",
       "      <td>3.689948</td>\n",
       "      <td>0</td>\n",
       "    </tr>\n",
       "    <tr>\n",
       "      <th>97</th>\n",
       "      <td>3.375022</td>\n",
       "      <td>4.196423</td>\n",
       "      <td>6.534891</td>\n",
       "      <td>6.587676</td>\n",
       "      <td>1</td>\n",
       "    </tr>\n",
       "    <tr>\n",
       "      <th>98</th>\n",
       "      <td>4.069721</td>\n",
       "      <td>4.556587</td>\n",
       "      <td>5.884516</td>\n",
       "      <td>5.958792</td>\n",
       "      <td>1</td>\n",
       "    </tr>\n",
       "    <tr>\n",
       "      <th>99</th>\n",
       "      <td>4.079704</td>\n",
       "      <td>3.939691</td>\n",
       "      <td>5.657731</td>\n",
       "      <td>4.083713</td>\n",
       "      <td>0</td>\n",
       "    </tr>\n",
       "  </tbody>\n",
       "</table>\n",
       "<p>100 rows × 5 columns</p>\n",
       "</div>"
      ],
      "text/plain": [
       "          x0        x1        x2        x3  target\n",
       "0   4.831144  4.695477  5.082239  4.501977       0\n",
       "1   1.460716  1.216714  7.632439  2.359443       0\n",
       "2   4.011018  4.515939  5.935904  5.981296       1\n",
       "3   5.982382  4.965863  3.890340  2.480491       0\n",
       "4   5.439188  5.911560  4.827872  6.653825       1\n",
       "..       ...       ...       ...       ...     ...\n",
       "95  4.343917  5.549315  5.925124  8.262054       1\n",
       "96  5.612101  5.065338  4.338867  3.689948       0\n",
       "97  3.375022  4.196423  6.534891  6.587676       1\n",
       "98  4.069721  4.556587  5.884516  5.958792       1\n",
       "99  4.079704  3.939691  5.657731  4.083713       0\n",
       "\n",
       "[100 rows x 5 columns]"
      ]
     },
     "execution_count": 34,
     "metadata": {},
     "output_type": "execute_result"
    }
   ],
   "source": [
    "df"
   ]
  },
  {
   "cell_type": "code",
   "execution_count": 35,
   "id": "b0f8badb-c267-4e8e-908a-5b120ea44796",
   "metadata": {},
   "outputs": [
    {
     "data": {
      "text/plain": [
       "Index(['x0', 'x1', 'x2', 'x3', 'target'], dtype='object')"
      ]
     },
     "execution_count": 35,
     "metadata": {},
     "output_type": "execute_result"
    }
   ],
   "source": [
    "df.columns"
   ]
  },
  {
   "cell_type": "code",
   "execution_count": null,
   "id": "33390ac6-8c1e-4833-9f30-ccf76459346a",
   "metadata": {},
   "outputs": [],
   "source": []
  },
  {
   "cell_type": "code",
   "execution_count": 45,
   "id": "1b925566-a61e-4ba4-a0c2-57c2c711bb5a",
   "metadata": {},
   "outputs": [
    {
     "data": {
      "text/html": [
       "<div>\n",
       "<style scoped>\n",
       "    .dataframe tbody tr th:only-of-type {\n",
       "        vertical-align: middle;\n",
       "    }\n",
       "\n",
       "    .dataframe tbody tr th {\n",
       "        vertical-align: top;\n",
       "    }\n",
       "\n",
       "    .dataframe thead th {\n",
       "        text-align: right;\n",
       "    }\n",
       "</style>\n",
       "<table border=\"1\" class=\"dataframe\">\n",
       "  <thead>\n",
       "    <tr style=\"text-align: right;\">\n",
       "      <th></th>\n",
       "      <th>x0</th>\n",
       "      <th>x1</th>\n",
       "      <th>x2</th>\n",
       "      <th>x3</th>\n",
       "      <th>target</th>\n",
       "    </tr>\n",
       "  </thead>\n",
       "  <tbody>\n",
       "    <tr>\n",
       "      <th>count</th>\n",
       "      <td>100.000000</td>\n",
       "      <td>100.000000</td>\n",
       "      <td>100.000000</td>\n",
       "      <td>100.000000</td>\n",
       "      <td>100.000000</td>\n",
       "    </tr>\n",
       "    <tr>\n",
       "      <th>mean</th>\n",
       "      <td>4.955836</td>\n",
       "      <td>4.994039</td>\n",
       "      <td>5.047265</td>\n",
       "      <td>5.090781</td>\n",
       "      <td>0.480000</td>\n",
       "    </tr>\n",
       "    <tr>\n",
       "      <th>std</th>\n",
       "      <td>1.520432</td>\n",
       "      <td>1.241994</td>\n",
       "      <td>1.314817</td>\n",
       "      <td>1.561127</td>\n",
       "      <td>0.502117</td>\n",
       "    </tr>\n",
       "    <tr>\n",
       "      <th>min</th>\n",
       "      <td>0.320782</td>\n",
       "      <td>1.216714</td>\n",
       "      <td>1.691293</td>\n",
       "      <td>1.387054</td>\n",
       "      <td>0.000000</td>\n",
       "    </tr>\n",
       "    <tr>\n",
       "      <th>25%</th>\n",
       "      <td>4.105478</td>\n",
       "      <td>4.273762</td>\n",
       "      <td>4.063963</td>\n",
       "      <td>4.068122</td>\n",
       "      <td>0.000000</td>\n",
       "    </tr>\n",
       "    <tr>\n",
       "      <th>50%</th>\n",
       "      <td>4.889341</td>\n",
       "      <td>4.966295</td>\n",
       "      <td>5.075909</td>\n",
       "      <td>5.078837</td>\n",
       "      <td>0.000000</td>\n",
       "    </tr>\n",
       "    <tr>\n",
       "      <th>75%</th>\n",
       "      <td>6.056671</td>\n",
       "      <td>5.948204</td>\n",
       "      <td>5.827681</td>\n",
       "      <td>5.955071</td>\n",
       "      <td>1.000000</td>\n",
       "    </tr>\n",
       "    <tr>\n",
       "      <th>max</th>\n",
       "      <td>8.644794</td>\n",
       "      <td>7.215791</td>\n",
       "      <td>9.361250</td>\n",
       "      <td>9.069262</td>\n",
       "      <td>1.000000</td>\n",
       "    </tr>\n",
       "  </tbody>\n",
       "</table>\n",
       "</div>"
      ],
      "text/plain": [
       "               x0          x1          x2          x3      target\n",
       "count  100.000000  100.000000  100.000000  100.000000  100.000000\n",
       "mean     4.955836    4.994039    5.047265    5.090781    0.480000\n",
       "std      1.520432    1.241994    1.314817    1.561127    0.502117\n",
       "min      0.320782    1.216714    1.691293    1.387054    0.000000\n",
       "25%      4.105478    4.273762    4.063963    4.068122    0.000000\n",
       "50%      4.889341    4.966295    5.075909    5.078837    0.000000\n",
       "75%      6.056671    5.948204    5.827681    5.955071    1.000000\n",
       "max      8.644794    7.215791    9.361250    9.069262    1.000000"
      ]
     },
     "execution_count": 45,
     "metadata": {},
     "output_type": "execute_result"
    }
   ],
   "source": [
    "df.describe()"
   ]
  },
  {
   "cell_type": "code",
   "execution_count": 46,
   "id": "2072b06a-2ef5-439f-9956-3ca10cd26124",
   "metadata": {},
   "outputs": [
    {
     "data": {
      "text/plain": [
       "48"
      ]
     },
     "execution_count": 46,
     "metadata": {},
     "output_type": "execute_result"
    }
   ],
   "source": [
    "df[\"target\"].loc[df['target']==1].sum()"
   ]
  },
  {
   "cell_type": "code",
   "execution_count": 47,
   "id": "bb3f1f5f-e599-4412-b8e3-ecd5e8edc19c",
   "metadata": {},
   "outputs": [
    {
     "data": {
      "text/html": [
       "<div>\n",
       "<style scoped>\n",
       "    .dataframe tbody tr th:only-of-type {\n",
       "        vertical-align: middle;\n",
       "    }\n",
       "\n",
       "    .dataframe tbody tr th {\n",
       "        vertical-align: top;\n",
       "    }\n",
       "\n",
       "    .dataframe thead th {\n",
       "        text-align: right;\n",
       "    }\n",
       "</style>\n",
       "<table border=\"1\" class=\"dataframe\">\n",
       "  <thead>\n",
       "    <tr style=\"text-align: right;\">\n",
       "      <th></th>\n",
       "      <th>x1</th>\n",
       "      <th>x3</th>\n",
       "    </tr>\n",
       "  </thead>\n",
       "  <tbody>\n",
       "    <tr>\n",
       "      <th>0</th>\n",
       "      <td>4.695477</td>\n",
       "      <td>4.501977</td>\n",
       "    </tr>\n",
       "    <tr>\n",
       "      <th>1</th>\n",
       "      <td>1.216714</td>\n",
       "      <td>2.359443</td>\n",
       "    </tr>\n",
       "    <tr>\n",
       "      <th>2</th>\n",
       "      <td>4.515939</td>\n",
       "      <td>5.981296</td>\n",
       "    </tr>\n",
       "    <tr>\n",
       "      <th>3</th>\n",
       "      <td>4.965863</td>\n",
       "      <td>2.480491</td>\n",
       "    </tr>\n",
       "    <tr>\n",
       "      <th>4</th>\n",
       "      <td>5.911560</td>\n",
       "      <td>6.653825</td>\n",
       "    </tr>\n",
       "  </tbody>\n",
       "</table>\n",
       "</div>"
      ],
      "text/plain": [
       "         x1        x3\n",
       "0  4.695477  4.501977\n",
       "1  1.216714  2.359443\n",
       "2  4.515939  5.981296\n",
       "3  4.965863  2.480491\n",
       "4  5.911560  6.653825"
      ]
     },
     "execution_count": 47,
     "metadata": {},
     "output_type": "execute_result"
    }
   ],
   "source": [
    "df2 = df[[\"x1\",\"x3\"]]\n",
    "df2.head()"
   ]
  },
  {
   "cell_type": "code",
   "execution_count": null,
   "id": "99465621-fb95-4f65-b096-b10d2c1c8a43",
   "metadata": {},
   "outputs": [],
   "source": []
  }
 ],
 "metadata": {
  "kernelspec": {
   "display_name": "Python 3",
   "language": "python",
   "name": "python3"
  },
  "language_info": {
   "codemirror_mode": {
    "name": "ipython",
    "version": 3
   },
   "file_extension": ".py",
   "mimetype": "text/x-python",
   "name": "python",
   "nbconvert_exporter": "python",
   "pygments_lexer": "ipython3",
   "version": "3.8.8"
  }
 },
 "nbformat": 4,
 "nbformat_minor": 5
}
