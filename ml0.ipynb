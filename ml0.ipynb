{
 "cells": [
  {
   "cell_type": "code",
   "execution_count": 6,
   "id": "dc26d102-93a3-4e5c-bf08-920697e7b378",
   "metadata": {},
   "outputs": [
    {
     "name": "stdout",
     "output_type": "stream",
     "text": [
      "0.0016727685898245172\n"
     ]
    }
   ],
   "source": [
    "heavy = 53\n",
    "height= 178\n",
    "BMI = heavy / (height ** 2)\n",
    "print(BMI)"
   ]
  },
  {
   "cell_type": "code",
   "execution_count": 2,
   "id": "2cbcc6b8-d0a3-4c10-b0a2-09c709f44822",
   "metadata": {},
   "outputs": [],
   "source": [
    "##(1): dictionary\n",
    "##(2):list\n",
    "##(3):list\n",
    "##(4):list\n",
    "##(5):set"
   ]
  },
  {
   "cell_type": "code",
   "execution_count": 7,
   "id": "62da801b-e033-4297-9ab4-0a67cb7bf9a5",
   "metadata": {},
   "outputs": [
    {
     "name": "stdout",
     "output_type": "stream",
     "text": [
      "235\n"
     ]
    }
   ],
   "source": [
    "result = [0,0,0]\n",
    "result[0] = 80\n",
    "result[1] = 90\n",
    "result[2] = 65\n",
    "print(sum(result))"
   ]
  },
  {
   "cell_type": "code",
   "execution_count": 9,
   "id": "6b46ad89-7caa-491b-8e40-5ebf342210fb",
   "metadata": {},
   "outputs": [
    {
     "name": "stdin",
     "output_type": "stream",
     "text": [
      ": 1\n"
     ]
    },
    {
     "name": "stdout",
     "output_type": "stream",
     "text": [
      "奇数\n"
     ]
    }
   ],
   "source": [
    "answer = int(input(\":\"))\n",
    "\n",
    "if answer%2 == 0:\n",
    "    print(\"偶数\")\n",
    "else:\n",
    "    print(\"奇数\")\n",
    "    "
   ]
  },
  {
   "cell_type": "code",
   "execution_count": 11,
   "id": "e19a3af3-168f-4640-ac71-13d648882b62",
   "metadata": {},
   "outputs": [
    {
     "name": "stdin",
     "output_type": "stream",
     "text": [
      " 母\n"
     ]
    },
    {
     "name": "stdout",
     "output_type": "stream",
     "text": [
      "どうしました？\n"
     ]
    }
   ],
   "source": [
    "aisatu0 = \"こんにちは\"\n",
    "aisatu1 = \"景気は?\"\n",
    "aisatu2 = \"お元気で！\"\n",
    "\n",
    "answer = (input(\"\"))\n",
    "\n",
    "if answer == aisatu0:\n",
    "    print(\"ようこそ！\")\n",
    "elif answer == aisatu1:\n",
    "    print(\"ぼちぼちです\")\n",
    "elif answer == aisatu2:\n",
    "    print(\"お元気で！\")\n",
    "else:\n",
    "    print(\"どうしました？\")\n",
    "    "
   ]
  },
  {
   "cell_type": "code",
   "execution_count": 24,
   "id": "cd29399c-b34a-47e1-836c-0c32cda0b650",
   "metadata": {},
   "outputs": [
    {
     "name": "stdout",
     "output_type": "stream",
     "text": [
      "10,9,8,7,6,5,4,3,2,1,List Off!\n"
     ]
    }
   ],
   "source": [
    "for i in range(10):\n",
    "    print(f\"{10-i},\", end=\"\")\n",
    "print(\"List Off!\")    "
   ]
  },
  {
   "cell_type": "code",
   "execution_count": 25,
   "id": "aebfd69b-e4c0-4d56-8ac6-25dd7cd6ae22",
   "metadata": {},
   "outputs": [
    {
     "name": "stdin",
     "output_type": "stream",
     "text": [
      " 71\n",
      " 67\n",
      " 73\n",
      " 61\n",
      " 79\n",
      " 59\n",
      " 83\n",
      " 87\n",
      " 72\n",
      " 79\n"
     ]
    }
   ],
   "source": [
    "scores = []\n",
    "for i in range(10):\n",
    "    result = int(input(\"\"))\n",
    "    scores.append(result)"
   ]
  },
  {
   "cell_type": "code",
   "execution_count": 33,
   "id": "efd3c899-43b4-49ac-a4ca-a034c0258750",
   "metadata": {},
   "outputs": [
    {
     "data": {
      "text/plain": [
       "[76.80000000000001,\n",
       " 73.6,\n",
       " 78.4,\n",
       " 68.80000000000001,\n",
       " 83.2,\n",
       " 67.2,\n",
       " 86.4,\n",
       " 89.60000000000001,\n",
       " 77.6,\n",
       " 83.2]"
      ]
     },
     "execution_count": 33,
     "metadata": {},
     "output_type": "execute_result"
    }
   ],
   "source": [
    "scores\n",
    "final_scores = []\n",
    "for i in list(scores):\n",
    "    crensing_result = 0.8*i+20\n",
    "    final_scores.append(crensing_result)\n",
    "final_scores    "
   ]
  },
  {
   "cell_type": "code",
   "execution_count": 34,
   "id": "1a378595-eec7-4f7f-9685-225a1e25fdde",
   "metadata": {},
   "outputs": [
    {
     "name": "stdout",
     "output_type": "stream",
     "text": [
      "79\n"
     ]
    }
   ],
   "source": [
    "def avg(x):\n",
    "    avg = sum(x) / len(x)\n",
    "    return result\n",
    "result = avg(final_scores)\n",
    "print(result)"
   ]
  },
  {
   "cell_type": "code",
   "execution_count": null,
   "id": "144f6c63-1d30-4288-a93a-39b7fe8975a6",
   "metadata": {},
   "outputs": [],
   "source": []
  },
  {
   "cell_type": "code",
   "execution_count": 22,
   "id": "eda54f8b-6661-4eab-aaf5-c50634a3f6b0",
   "metadata": {},
   "outputs": [],
   "source": [
    "def uruu(year):\n",
    "    result = None\n",
    "    \n",
    "    if year%4 == 0:\n",
    "        result = True\n",
    "    elif year%100 == 0:\n",
    "        result = False\n",
    "    elif year%400 == 0:\n",
    "        result = True\n",
    "    else:\n",
    "        result = False\n",
    "    return result    "
   ]
  },
  {
   "cell_type": "code",
   "execution_count": null,
   "id": "2145d16a-9cdb-41e3-8144-4de4996a13b4",
   "metadata": {},
   "outputs": [],
   "source": [
    "##"
   ]
  }
 ],
 "metadata": {
  "kernelspec": {
   "display_name": "Python 3",
   "language": "python",
   "name": "python3"
  },
  "language_info": {
   "codemirror_mode": {
    "name": "ipython",
    "version": 3
   },
   "file_extension": ".py",
   "mimetype": "text/x-python",
   "name": "python",
   "nbconvert_exporter": "python",
   "pygments_lexer": "ipython3",
   "version": "3.8.8"
  }
 },
 "nbformat": 4,
 "nbformat_minor": 5
}
