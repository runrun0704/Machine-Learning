{
 "cells": [
  {
   "cell_type": "code",
   "execution_count": 1,
   "id": "08a4e794-e7f0-4d98-82b5-45c4babdd50e",
   "metadata": {},
   "outputs": [],
   "source": [
    "import pandas as pd"
   ]
  },
  {
   "cell_type": "code",
   "execution_count": 3,
   "id": "69655e3e-fa20-4df4-9551-95901783aef0",
   "metadata": {},
   "outputs": [
    {
     "data": {
      "text/html": [
       "<div>\n",
       "<style scoped>\n",
       "    .dataframe tbody tr th:only-of-type {\n",
       "        vertical-align: middle;\n",
       "    }\n",
       "\n",
       "    .dataframe tbody tr th {\n",
       "        vertical-align: top;\n",
       "    }\n",
       "\n",
       "    .dataframe thead th {\n",
       "        text-align: right;\n",
       "    }\n",
       "</style>\n",
       "<table border=\"1\" class=\"dataframe\">\n",
       "  <thead>\n",
       "    <tr style=\"text-align: right;\">\n",
       "      <th></th>\n",
       "      <th>がく片長さ</th>\n",
       "      <th>がく片幅</th>\n",
       "      <th>花弁長さ</th>\n",
       "      <th>花弁幅</th>\n",
       "      <th>種類</th>\n",
       "    </tr>\n",
       "  </thead>\n",
       "  <tbody>\n",
       "    <tr>\n",
       "      <th>0</th>\n",
       "      <td>0.22</td>\n",
       "      <td>0.63</td>\n",
       "      <td>0.08</td>\n",
       "      <td>0.04</td>\n",
       "      <td>Iris-setosa</td>\n",
       "    </tr>\n",
       "    <tr>\n",
       "      <th>1</th>\n",
       "      <td>0.17</td>\n",
       "      <td>0.42</td>\n",
       "      <td>0.35</td>\n",
       "      <td>0.04</td>\n",
       "      <td>Iris-setosa</td>\n",
       "    </tr>\n",
       "    <tr>\n",
       "      <th>2</th>\n",
       "      <td>0.11</td>\n",
       "      <td>0.50</td>\n",
       "      <td>0.13</td>\n",
       "      <td>0.04</td>\n",
       "      <td>Iris-setosa</td>\n",
       "    </tr>\n",
       "    <tr>\n",
       "      <th>3</th>\n",
       "      <td>0.08</td>\n",
       "      <td>0.46</td>\n",
       "      <td>0.26</td>\n",
       "      <td>0.04</td>\n",
       "      <td>Iris-setosa</td>\n",
       "    </tr>\n",
       "    <tr>\n",
       "      <th>4</th>\n",
       "      <td>0.19</td>\n",
       "      <td>0.67</td>\n",
       "      <td>0.44</td>\n",
       "      <td>0.04</td>\n",
       "      <td>Iris-setosa</td>\n",
       "    </tr>\n",
       "    <tr>\n",
       "      <th>...</th>\n",
       "      <td>...</td>\n",
       "      <td>...</td>\n",
       "      <td>...</td>\n",
       "      <td>...</td>\n",
       "      <td>...</td>\n",
       "    </tr>\n",
       "    <tr>\n",
       "      <th>145</th>\n",
       "      <td>0.67</td>\n",
       "      <td>0.42</td>\n",
       "      <td>0.54</td>\n",
       "      <td>0.92</td>\n",
       "      <td>Iris-virginica</td>\n",
       "    </tr>\n",
       "    <tr>\n",
       "      <th>146</th>\n",
       "      <td>0.56</td>\n",
       "      <td>0.21</td>\n",
       "      <td>0.69</td>\n",
       "      <td>0.46</td>\n",
       "      <td>Iris-virginica</td>\n",
       "    </tr>\n",
       "    <tr>\n",
       "      <th>147</th>\n",
       "      <td>0.61</td>\n",
       "      <td>0.42</td>\n",
       "      <td>NaN</td>\n",
       "      <td>0.79</td>\n",
       "      <td>Iris-virginica</td>\n",
       "    </tr>\n",
       "    <tr>\n",
       "      <th>148</th>\n",
       "      <td>0.53</td>\n",
       "      <td>0.58</td>\n",
       "      <td>0.63</td>\n",
       "      <td>0.92</td>\n",
       "      <td>Iris-virginica</td>\n",
       "    </tr>\n",
       "    <tr>\n",
       "      <th>149</th>\n",
       "      <td>0.44</td>\n",
       "      <td>0.42</td>\n",
       "      <td>0.41</td>\n",
       "      <td>0.71</td>\n",
       "      <td>Iris-virginica</td>\n",
       "    </tr>\n",
       "  </tbody>\n",
       "</table>\n",
       "<p>150 rows × 5 columns</p>\n",
       "</div>"
      ],
      "text/plain": [
       "     がく片長さ  がく片幅  花弁長さ   花弁幅              種類\n",
       "0     0.22  0.63  0.08  0.04     Iris-setosa\n",
       "1     0.17  0.42  0.35  0.04     Iris-setosa\n",
       "2     0.11  0.50  0.13  0.04     Iris-setosa\n",
       "3     0.08  0.46  0.26  0.04     Iris-setosa\n",
       "4     0.19  0.67  0.44  0.04     Iris-setosa\n",
       "..     ...   ...   ...   ...             ...\n",
       "145   0.67  0.42  0.54  0.92  Iris-virginica\n",
       "146   0.56  0.21  0.69  0.46  Iris-virginica\n",
       "147   0.61  0.42   NaN  0.79  Iris-virginica\n",
       "148   0.53  0.58  0.63  0.92  Iris-virginica\n",
       "149   0.44  0.42  0.41  0.71  Iris-virginica\n",
       "\n",
       "[150 rows x 5 columns]"
      ]
     },
     "execution_count": 3,
     "metadata": {},
     "output_type": "execute_result"
    }
   ],
   "source": [
    "df = pd.read_csv(\"iris.csv\")\n",
    "df"
   ]
  },
  {
   "cell_type": "code",
   "execution_count": 5,
   "id": "6a4694c5-5e3b-4eeb-b73c-50d048860184",
   "metadata": {},
   "outputs": [
    {
     "data": {
      "text/plain": [
       "3"
      ]
     },
     "execution_count": 5,
     "metadata": {},
     "output_type": "execute_result"
    }
   ],
   "source": [
    "len(df[\"種類\"].unique())"
   ]
  },
  {
   "cell_type": "code",
   "execution_count": 6,
   "id": "92f347be-1aa2-46d5-a9e1-fc7629a57f9e",
   "metadata": {},
   "outputs": [
    {
     "data": {
      "text/plain": [
       "Iris-setosa        50\n",
       "Iris-virginica     50\n",
       "Iris-versicolor    50\n",
       "Name: 種類, dtype: int64"
      ]
     },
     "execution_count": 6,
     "metadata": {},
     "output_type": "execute_result"
    }
   ],
   "source": [
    "df['種類'].value_counts()"
   ]
  },
  {
   "cell_type": "code",
   "execution_count": 9,
   "id": "8c672888-9820-4ddb-8f42-71283da7e6a1",
   "metadata": {},
   "outputs": [
    {
     "data": {
      "text/plain": [
       "がく片長さ     True\n",
       "がく片幅      True\n",
       "花弁長さ      True\n",
       "花弁幅       True\n",
       "種類       False\n",
       "dtype: bool"
      ]
     },
     "execution_count": 9,
     "metadata": {},
     "output_type": "execute_result"
    }
   ],
   "source": [
    "df.isna().any(axis=0)"
   ]
  },
  {
   "cell_type": "code",
   "execution_count": 10,
   "id": "9200ceb0-ccba-4155-8866-732dcb1ed319",
   "metadata": {},
   "outputs": [
    {
     "data": {
      "text/plain": [
       "がく片長さ    False\n",
       "がく片幅     False\n",
       "花弁長さ     False\n",
       "花弁幅      False\n",
       "種類       False\n",
       "dtype: bool"
      ]
     },
     "execution_count": 10,
     "metadata": {},
     "output_type": "execute_result"
    }
   ],
   "source": [
    "df2 = df.dropna(how = 'any', axis = 0)\n",
    "df2.isna().any(axis=0)"
   ]
  },
  {
   "cell_type": "code",
   "execution_count": 12,
   "id": "6622eee0-3f7d-4fad-9ca9-07933cdc9785",
   "metadata": {},
   "outputs": [
    {
     "data": {
      "text/html": [
       "<div>\n",
       "<style scoped>\n",
       "    .dataframe tbody tr th:only-of-type {\n",
       "        vertical-align: middle;\n",
       "    }\n",
       "\n",
       "    .dataframe tbody tr th {\n",
       "        vertical-align: top;\n",
       "    }\n",
       "\n",
       "    .dataframe thead th {\n",
       "        text-align: right;\n",
       "    }\n",
       "</style>\n",
       "<table border=\"1\" class=\"dataframe\">\n",
       "  <thead>\n",
       "    <tr style=\"text-align: right;\">\n",
       "      <th></th>\n",
       "      <th>がく片長さ</th>\n",
       "      <th>がく片幅</th>\n",
       "      <th>花弁長さ</th>\n",
       "      <th>花弁幅</th>\n",
       "      <th>種類</th>\n",
       "    </tr>\n",
       "  </thead>\n",
       "  <tbody>\n",
       "    <tr>\n",
       "      <th>147</th>\n",
       "      <td>0.61</td>\n",
       "      <td>0.42</td>\n",
       "      <td>0.00</td>\n",
       "      <td>0.79</td>\n",
       "      <td>Iris-virginica</td>\n",
       "    </tr>\n",
       "    <tr>\n",
       "      <th>148</th>\n",
       "      <td>0.53</td>\n",
       "      <td>0.58</td>\n",
       "      <td>0.63</td>\n",
       "      <td>0.92</td>\n",
       "      <td>Iris-virginica</td>\n",
       "    </tr>\n",
       "    <tr>\n",
       "      <th>149</th>\n",
       "      <td>0.44</td>\n",
       "      <td>0.42</td>\n",
       "      <td>0.41</td>\n",
       "      <td>0.71</td>\n",
       "      <td>Iris-virginica</td>\n",
       "    </tr>\n",
       "  </tbody>\n",
       "</table>\n",
       "</div>"
      ],
      "text/plain": [
       "     がく片長さ  がく片幅  花弁長さ   花弁幅              種類\n",
       "147   0.61  0.42  0.00  0.79  Iris-virginica\n",
       "148   0.53  0.58  0.63  0.92  Iris-virginica\n",
       "149   0.44  0.42  0.41  0.71  Iris-virginica"
      ]
     },
     "execution_count": 12,
     "metadata": {},
     "output_type": "execute_result"
    }
   ],
   "source": [
    "df['花弁長さ'] = df['花弁長さ'].fillna(0)\n",
    "df.tail(3)"
   ]
  },
  {
   "cell_type": "code",
   "execution_count": 13,
   "id": "161994f8-aa1b-498a-bfe0-0e7a5a85a654",
   "metadata": {},
   "outputs": [
    {
     "data": {
      "text/plain": [
       "がく片長さ    2\n",
       "がく片幅     1\n",
       "花弁長さ     0\n",
       "花弁幅      2\n",
       "種類       0\n",
       "dtype: int64"
      ]
     },
     "execution_count": 13,
     "metadata": {},
     "output_type": "execute_result"
    }
   ],
   "source": [
    "df.isna().sum()"
   ]
  },
  {
   "cell_type": "code",
   "execution_count": 14,
   "id": "ce6e68aa-8c28-408a-8f18-f445e240e6e2",
   "metadata": {},
   "outputs": [
    {
     "data": {
      "text/plain": [
       "がく片長さ    0.420878\n",
       "がく片幅     0.440403\n",
       "花弁長さ     0.480267\n",
       "花弁幅      0.447432\n",
       "dtype: float64"
      ]
     },
     "execution_count": 14,
     "metadata": {},
     "output_type": "execute_result"
    }
   ],
   "source": [
    "df.mean()"
   ]
  },
  {
   "cell_type": "code",
   "execution_count": 15,
   "id": "f8c3d570-572b-4934-aa23-e31467d25cd0",
   "metadata": {},
   "outputs": [
    {
     "data": {
      "text/html": [
       "<div>\n",
       "<style scoped>\n",
       "    .dataframe tbody tr th:only-of-type {\n",
       "        vertical-align: middle;\n",
       "    }\n",
       "\n",
       "    .dataframe tbody tr th {\n",
       "        vertical-align: top;\n",
       "    }\n",
       "\n",
       "    .dataframe thead th {\n",
       "        text-align: right;\n",
       "    }\n",
       "</style>\n",
       "<table border=\"1\" class=\"dataframe\">\n",
       "  <thead>\n",
       "    <tr style=\"text-align: right;\">\n",
       "      <th></th>\n",
       "      <th>がく片長さ</th>\n",
       "      <th>がく片幅</th>\n",
       "      <th>花弁長さ</th>\n",
       "      <th>花弁幅</th>\n",
       "      <th>種類</th>\n",
       "    </tr>\n",
       "  </thead>\n",
       "  <tbody>\n",
       "    <tr>\n",
       "      <th>0</th>\n",
       "      <td>0.22</td>\n",
       "      <td>0.63</td>\n",
       "      <td>0.08</td>\n",
       "      <td>0.04</td>\n",
       "      <td>Iris-setosa</td>\n",
       "    </tr>\n",
       "    <tr>\n",
       "      <th>1</th>\n",
       "      <td>0.17</td>\n",
       "      <td>0.42</td>\n",
       "      <td>0.35</td>\n",
       "      <td>0.04</td>\n",
       "      <td>Iris-setosa</td>\n",
       "    </tr>\n",
       "    <tr>\n",
       "      <th>2</th>\n",
       "      <td>0.11</td>\n",
       "      <td>0.50</td>\n",
       "      <td>0.13</td>\n",
       "      <td>0.04</td>\n",
       "      <td>Iris-setosa</td>\n",
       "    </tr>\n",
       "    <tr>\n",
       "      <th>3</th>\n",
       "      <td>0.08</td>\n",
       "      <td>0.46</td>\n",
       "      <td>0.26</td>\n",
       "      <td>0.04</td>\n",
       "      <td>Iris-setosa</td>\n",
       "    </tr>\n",
       "    <tr>\n",
       "      <th>4</th>\n",
       "      <td>0.19</td>\n",
       "      <td>0.67</td>\n",
       "      <td>0.44</td>\n",
       "      <td>0.04</td>\n",
       "      <td>Iris-setosa</td>\n",
       "    </tr>\n",
       "    <tr>\n",
       "      <th>...</th>\n",
       "      <td>...</td>\n",
       "      <td>...</td>\n",
       "      <td>...</td>\n",
       "      <td>...</td>\n",
       "      <td>...</td>\n",
       "    </tr>\n",
       "    <tr>\n",
       "      <th>145</th>\n",
       "      <td>0.67</td>\n",
       "      <td>0.42</td>\n",
       "      <td>0.54</td>\n",
       "      <td>0.92</td>\n",
       "      <td>Iris-virginica</td>\n",
       "    </tr>\n",
       "    <tr>\n",
       "      <th>146</th>\n",
       "      <td>0.56</td>\n",
       "      <td>0.21</td>\n",
       "      <td>0.69</td>\n",
       "      <td>0.46</td>\n",
       "      <td>Iris-virginica</td>\n",
       "    </tr>\n",
       "    <tr>\n",
       "      <th>147</th>\n",
       "      <td>0.61</td>\n",
       "      <td>0.42</td>\n",
       "      <td>NaN</td>\n",
       "      <td>0.79</td>\n",
       "      <td>Iris-virginica</td>\n",
       "    </tr>\n",
       "    <tr>\n",
       "      <th>148</th>\n",
       "      <td>0.53</td>\n",
       "      <td>0.58</td>\n",
       "      <td>0.63</td>\n",
       "      <td>0.92</td>\n",
       "      <td>Iris-virginica</td>\n",
       "    </tr>\n",
       "    <tr>\n",
       "      <th>149</th>\n",
       "      <td>0.44</td>\n",
       "      <td>0.42</td>\n",
       "      <td>0.41</td>\n",
       "      <td>0.71</td>\n",
       "      <td>Iris-virginica</td>\n",
       "    </tr>\n",
       "  </tbody>\n",
       "</table>\n",
       "<p>150 rows × 5 columns</p>\n",
       "</div>"
      ],
      "text/plain": [
       "     がく片長さ  がく片幅  花弁長さ   花弁幅              種類\n",
       "0     0.22  0.63  0.08  0.04     Iris-setosa\n",
       "1     0.17  0.42  0.35  0.04     Iris-setosa\n",
       "2     0.11  0.50  0.13  0.04     Iris-setosa\n",
       "3     0.08  0.46  0.26  0.04     Iris-setosa\n",
       "4     0.19  0.67  0.44  0.04     Iris-setosa\n",
       "..     ...   ...   ...   ...             ...\n",
       "145   0.67  0.42  0.54  0.92  Iris-virginica\n",
       "146   0.56  0.21  0.69  0.46  Iris-virginica\n",
       "147   0.61  0.42   NaN  0.79  Iris-virginica\n",
       "148   0.53  0.58  0.63  0.92  Iris-virginica\n",
       "149   0.44  0.42  0.41  0.71  Iris-virginica\n",
       "\n",
       "[150 rows x 5 columns]"
      ]
     },
     "execution_count": 15,
     "metadata": {},
     "output_type": "execute_result"
    }
   ],
   "source": [
    "df = pd.read_csv(\"iris.csv\")\n",
    "df"
   ]
  },
  {
   "cell_type": "code",
   "execution_count": 16,
   "id": "dda4981c-945a-4f9a-b36d-6c956f0f2035",
   "metadata": {},
   "outputs": [],
   "source": [
    "mean = df.mean()"
   ]
  },
  {
   "cell_type": "code",
   "execution_count": 18,
   "id": "702a993d-4bff-4449-b69b-ccfda3d82cdc",
   "metadata": {},
   "outputs": [
    {
     "data": {
      "text/plain": [
       "がく片長さ    0\n",
       "がく片幅     0\n",
       "花弁長さ     0\n",
       "花弁幅      0\n",
       "種類       0\n",
       "dtype: int64"
      ]
     },
     "execution_count": 18,
     "metadata": {},
     "output_type": "execute_result"
    }
   ],
   "source": [
    "df2 = df.fillna(mean)\n",
    "df2.isna().sum()"
   ]
  },
  {
   "cell_type": "code",
   "execution_count": 19,
   "id": "b50a62c0-934c-4dea-acbd-ec290ebe33a1",
   "metadata": {},
   "outputs": [],
   "source": [
    "xcol = ['がく片長さ','がく片幅','花弁長さ','花弁幅']\n",
    "\n",
    "x = df2[xcol]\n",
    "t = df2['種類']"
   ]
  },
  {
   "cell_type": "code",
   "execution_count": 20,
   "id": "28aa1259-911a-4439-930f-720b97ab79b7",
   "metadata": {},
   "outputs": [],
   "source": [
    "from sklearn import tree\n",
    "\n",
    "model = tree.DecisionTreeClassifier(max_depth=2, random_state = 0)"
   ]
  },
  {
   "cell_type": "code",
   "execution_count": 21,
   "id": "67f4c7a5-89f6-4264-a202-08b35d5c52a5",
   "metadata": {},
   "outputs": [
    {
     "data": {
      "text/plain": [
       "0.94"
      ]
     },
     "execution_count": 21,
     "metadata": {},
     "output_type": "execute_result"
    }
   ],
   "source": [
    "model.fit(x, t)\n",
    "model.score(x,t)"
   ]
  },
  {
   "cell_type": "code",
   "execution_count": 23,
   "id": "9382be3e-afd6-4f5a-a017-a61576ac1099",
   "metadata": {},
   "outputs": [],
   "source": [
    "from sklearn.model_selection import train_test_split\n",
    "\n",
    "x_train, x_test, y_train, y_test = train_test_split(x,t, test_size = 0.3, random_state = 0)\n"
   ]
  },
  {
   "cell_type": "code",
   "execution_count": 24,
   "id": "bd824b3e-a1f1-4f1f-9db8-272762696700",
   "metadata": {},
   "outputs": [
    {
     "name": "stdout",
     "output_type": "stream",
     "text": [
      "(105, 4)\n",
      "(45, 4)\n"
     ]
    }
   ],
   "source": [
    "list_ = [x_train, x_test]\n",
    "for i in list_:\n",
    "    print(f\"{i.shape}\")"
   ]
  },
  {
   "cell_type": "code",
   "execution_count": 25,
   "id": "7510c854-986f-4823-82e6-840b90fa5858",
   "metadata": {},
   "outputs": [
    {
     "data": {
      "text/plain": [
       "0.9555555555555556"
      ]
     },
     "execution_count": 25,
     "metadata": {},
     "output_type": "execute_result"
    }
   ],
   "source": [
    "model.fit(x_train, y_train)\n",
    "model.score(x_test, y_test)"
   ]
  },
  {
   "cell_type": "code",
   "execution_count": 26,
   "id": "017202b7-db20-4ad0-ae11-ca1caa605c97",
   "metadata": {},
   "outputs": [],
   "source": [
    "import pickle\n",
    "with open('irismodel.pkl','wb') as f:\n",
    "    pickle.dump(model, f)"
   ]
  },
  {
   "cell_type": "code",
   "execution_count": 27,
   "id": "b2688264-56dc-426a-a16a-7edfef076dfd",
   "metadata": {},
   "outputs": [
    {
     "data": {
      "text/plain": [
       "array([ 3, -2,  3, -2, -2], dtype=int64)"
      ]
     },
     "execution_count": 27,
     "metadata": {},
     "output_type": "execute_result"
    }
   ],
   "source": [
    "model.tree_.feature"
   ]
  },
  {
   "cell_type": "code",
   "execution_count": 30,
   "id": "a5b488e5-0a5e-4278-9f61-fd9dbe68f022",
   "metadata": {},
   "outputs": [
    {
     "data": {
      "text/plain": [
       "array([ 0.275, -2.   ,  0.69 , -2.   , -2.   ])"
      ]
     },
     "execution_count": 30,
     "metadata": {},
     "output_type": "execute_result"
    }
   ],
   "source": [
    "model.tree_.threshold"
   ]
  },
  {
   "cell_type": "code",
   "execution_count": 31,
   "id": "deb4df2e-2279-4361-93ce-d17d4e5489c9",
   "metadata": {},
   "outputs": [
    {
     "data": {
      "text/plain": [
       "[1, 3, 4]"
      ]
     },
     "execution_count": 31,
     "metadata": {},
     "output_type": "execute_result"
    }
   ],
   "source": [
    "list_ = [1,3,4]\n",
    "list_"
   ]
  },
  {
   "cell_type": "code",
   "execution_count": 32,
   "id": "8ce17189-f1a6-4b4f-9336-20b1a3040380",
   "metadata": {},
   "outputs": [
    {
     "name": "stdout",
     "output_type": "stream",
     "text": [
      "[[34.  0.  0.]]\n",
      "[[ 0. 31.  6.]]\n",
      "[[ 0.  1. 33.]]\n"
     ]
    }
   ],
   "source": [
    "for i in list_:\n",
    "    print(model.tree_.value[i])"
   ]
  },
  {
   "cell_type": "code",
   "execution_count": 33,
   "id": "4ad1a2d5-8ffc-4c09-be28-48873e4c8b0d",
   "metadata": {},
   "outputs": [
    {
     "data": {
      "text/plain": [
       "array(['Iris-setosa', 'Iris-versicolor', 'Iris-virginica'], dtype=object)"
      ]
     },
     "execution_count": 33,
     "metadata": {},
     "output_type": "execute_result"
    }
   ],
   "source": [
    "model.classes_"
   ]
  },
  {
   "cell_type": "code",
   "execution_count": 34,
   "id": "d7cc8c57-d8df-47d3-889d-d5fab4fcf9f3",
   "metadata": {},
   "outputs": [
    {
     "data": {
      "text/plain": [
       "[Text(133.92000000000002, 181.2, 'kaben_haba <= 0.275\\ngini = 0.664\\nsamples = 105\\nvalue = [34, 32, 39]'),\n",
       " Text(66.96000000000001, 108.72, 'gini = 0.0\\nsamples = 34\\nvalue = [34, 0, 0]'),\n",
       " Text(200.88000000000002, 108.72, 'kaben_haba <= 0.69\\ngini = 0.495\\nsamples = 71\\nvalue = [0, 32, 39]'),\n",
       " Text(133.92000000000002, 36.23999999999998, 'gini = 0.272\\nsamples = 37\\nvalue = [0, 31, 6]'),\n",
       " Text(267.84000000000003, 36.23999999999998, 'gini = 0.057\\nsamples = 34\\nvalue = [0, 1, 33]')]"
      ]
     },
     "execution_count": 34,
     "metadata": {},
     "output_type": "execute_result"
    },
    {
     "data": {
      "image/png": "[encoded data removed]",
      "text/plain": [
       "<Figure size 432x288 with 1 Axes>"
      ]
     },
     "metadata": {
      "needs_background": "light"
     },
     "output_type": "display_data"
    }
   ],
   "source": [
    "x_train.columns = ['gaku_nagasa','gaku_haba','kaben_nagasa','kaben_haba']\n",
    "\n",
    "from sklearn.tree import plot_tree\n",
    "\n",
    "plot_tree(model, feature_names = x_train.columns, filled=True)\n"
   ]
  },
  {
   "cell_type": "code",
   "execution_count": 37,
   "id": "927ea8df-8f64-47ef-970b-05f7addd8f79",
   "metadata": {},
   "outputs": [
    {
     "data": {
      "text/html": [
       "<div>\n",
       "<style scoped>\n",
       "    .dataframe tbody tr th:only-of-type {\n",
       "        vertical-align: middle;\n",
       "    }\n",
       "\n",
       "    .dataframe tbody tr th {\n",
       "        vertical-align: top;\n",
       "    }\n",
       "\n",
       "    .dataframe thead th {\n",
       "        text-align: right;\n",
       "    }\n",
       "</style>\n",
       "<table border=\"1\" class=\"dataframe\">\n",
       "  <thead>\n",
       "    <tr style=\"text-align: right;\">\n",
       "      <th></th>\n",
       "      <th>x0</th>\n",
       "      <th>x1</th>\n",
       "      <th>x2</th>\n",
       "      <th>x3</th>\n",
       "      <th>target</th>\n",
       "    </tr>\n",
       "  </thead>\n",
       "  <tbody>\n",
       "    <tr>\n",
       "      <th>0</th>\n",
       "      <td>-1.244674</td>\n",
       "      <td>1.452124</td>\n",
       "      <td>-1.184385</td>\n",
       "      <td>-0.839169</td>\n",
       "      <td>1</td>\n",
       "    </tr>\n",
       "    <tr>\n",
       "      <th>1</th>\n",
       "      <td>-1.662920</td>\n",
       "      <td>-0.375804</td>\n",
       "      <td>-0.956673</td>\n",
       "      <td>0.380114</td>\n",
       "      <td>0</td>\n",
       "    </tr>\n",
       "    <tr>\n",
       "      <th>2</th>\n",
       "      <td>-1.926513</td>\n",
       "      <td>NaN</td>\n",
       "      <td>-1.203904</td>\n",
       "      <td>-0.728801</td>\n",
       "      <td>1</td>\n",
       "    </tr>\n",
       "    <tr>\n",
       "      <th>3</th>\n",
       "      <td>-1.455014</td>\n",
       "      <td>-0.472972</td>\n",
       "      <td>0.500495</td>\n",
       "      <td>-0.809670</td>\n",
       "      <td>0</td>\n",
       "    </tr>\n",
       "    <tr>\n",
       "      <th>4</th>\n",
       "      <td>-1.255422</td>\n",
       "      <td>1.348182</td>\n",
       "      <td>0.827424</td>\n",
       "      <td>-0.334090</td>\n",
       "      <td>1</td>\n",
       "    </tr>\n",
       "    <tr>\n",
       "      <th>...</th>\n",
       "      <td>...</td>\n",
       "      <td>...</td>\n",
       "      <td>...</td>\n",
       "      <td>...</td>\n",
       "      <td>...</td>\n",
       "    </tr>\n",
       "    <tr>\n",
       "      <th>95</th>\n",
       "      <td>-0.988204</td>\n",
       "      <td>0.934396</td>\n",
       "      <td>0.131865</td>\n",
       "      <td>-0.158939</td>\n",
       "      <td>1</td>\n",
       "    </tr>\n",
       "    <tr>\n",
       "      <th>96</th>\n",
       "      <td>-2.057470</td>\n",
       "      <td>2.869821</td>\n",
       "      <td>-0.887651</td>\n",
       "      <td>-0.741163</td>\n",
       "      <td>1</td>\n",
       "    </tr>\n",
       "    <tr>\n",
       "      <th>97</th>\n",
       "      <td>-1.669722</td>\n",
       "      <td>2.168812</td>\n",
       "      <td>-0.018603</td>\n",
       "      <td>0.607099</td>\n",
       "      <td>1</td>\n",
       "    </tr>\n",
       "    <tr>\n",
       "      <th>98</th>\n",
       "      <td>-1.011851</td>\n",
       "      <td>0.973641</td>\n",
       "      <td>-0.474993</td>\n",
       "      <td>-0.509644</td>\n",
       "      <td>1</td>\n",
       "    </tr>\n",
       "    <tr>\n",
       "      <th>99</th>\n",
       "      <td>-1.578463</td>\n",
       "      <td>2.076695</td>\n",
       "      <td>0.200962</td>\n",
       "      <td>2.533324</td>\n",
       "      <td>1</td>\n",
       "    </tr>\n",
       "  </tbody>\n",
       "</table>\n",
       "<p>100 rows × 5 columns</p>\n",
       "</div>"
      ],
      "text/plain": [
       "          x0        x1        x2        x3  target\n",
       "0  -1.244674  1.452124 -1.184385 -0.839169       1\n",
       "1  -1.662920 -0.375804 -0.956673  0.380114       0\n",
       "2  -1.926513       NaN -1.203904 -0.728801       1\n",
       "3  -1.455014 -0.472972  0.500495 -0.809670       0\n",
       "4  -1.255422  1.348182  0.827424 -0.334090       1\n",
       "..       ...       ...       ...       ...     ...\n",
       "95 -0.988204  0.934396  0.131865 -0.158939       1\n",
       "96 -2.057470  2.869821 -0.887651 -0.741163       1\n",
       "97 -1.669722  2.168812 -0.018603  0.607099       1\n",
       "98 -1.011851  0.973641 -0.474993 -0.509644       1\n",
       "99 -1.578463  2.076695  0.200962  2.533324       1\n",
       "\n",
       "[100 rows x 5 columns]"
      ]
     },
     "execution_count": 37,
     "metadata": {},
     "output_type": "execute_result"
    }
   ],
   "source": [
    "sm = pd.read_csv('ex2.csv')\n",
    "sm"
   ]
  },
  {
   "cell_type": "code",
   "execution_count": 38,
   "id": "ed5004a3-eb7d-4c60-9fbf-11d047de59db",
   "metadata": {},
   "outputs": [
    {
     "data": {
      "text/plain": [
       "array([1, 0])"
      ]
     },
     "execution_count": 38,
     "metadata": {},
     "output_type": "execute_result"
    }
   ],
   "source": [
    "sm['target'].unique()"
   ]
  },
  {
   "cell_type": "code",
   "execution_count": 39,
   "id": "4e34302e-29d3-47fc-8525-50528ce1edaa",
   "metadata": {},
   "outputs": [
    {
     "data": {
      "text/plain": [
       "x0        False\n",
       "x1         True\n",
       "x2         True\n",
       "x3        False\n",
       "target    False\n",
       "dtype: bool"
      ]
     },
     "execution_count": 39,
     "metadata": {},
     "output_type": "execute_result"
    }
   ],
   "source": [
    "sm.isna().any(axis=0)"
   ]
  },
  {
   "cell_type": "code",
   "execution_count": 43,
   "id": "608607c8-a628-4188-885a-2a4b68edeb21",
   "metadata": {},
   "outputs": [
    {
     "data": {
      "text/plain": [
       "がく片長さ    0.405\n",
       "がく片幅     0.420\n",
       "花弁長さ     0.490\n",
       "花弁幅      0.500\n",
       "dtype: float64"
      ]
     },
     "execution_count": 43,
     "metadata": {},
     "output_type": "execute_result"
    }
   ],
   "source": [
    "median = df.median()\n",
    "median"
   ]
  },
  {
   "cell_type": "code",
   "execution_count": 48,
   "id": "8df5d982-ebff-40af-8caa-f1249eb069c2",
   "metadata": {},
   "outputs": [
    {
     "data": {
      "text/plain": [
       "x0        False\n",
       "x1        False\n",
       "x2        False\n",
       "x3        False\n",
       "target    False\n",
       "dtype: bool"
      ]
     },
     "execution_count": 48,
     "metadata": {},
     "output_type": "execute_result"
    }
   ],
   "source": [
    "sm1 = sm.fillna(sm.median())\n",
    "sm1.isna().any(axis=0)"
   ]
  },
  {
   "cell_type": "code",
   "execution_count": 52,
   "id": "a327a1e8-2b2c-45c1-924f-9eca9c647ae8",
   "metadata": {},
   "outputs": [],
   "source": [
    "x_col = ['x0','x1','x2','x3']\n",
    "x = sm1[x_col]\n",
    "\n",
    "t = sm1['target']"
   ]
  },
  {
   "cell_type": "code",
   "execution_count": 53,
   "id": "887a25ed-9e24-4e75-884e-0c332913dbd6",
   "metadata": {},
   "outputs": [],
   "source": [
    "model = tree.DecisionTreeClassifier(max_depth = 3, random_state = 0)\n",
    "x_train,x_test,y_train,y_test = train_test_split(x,t, test_size=0.2, random_state=0)\n"
   ]
  },
  {
   "cell_type": "code",
   "execution_count": 54,
   "id": "194db808-240c-4988-9703-1e4596a7cfa4",
   "metadata": {},
   "outputs": [
    {
     "data": {
      "text/plain": [
       "0.95"
      ]
     },
     "execution_count": 54,
     "metadata": {},
     "output_type": "execute_result"
    }
   ],
   "source": [
    "model.fit(x_train,y_train)\n",
    "model.score(x_test,y_test)"
   ]
  },
  {
   "cell_type": "code",
   "execution_count": 59,
   "id": "778a9a76-bbfc-4129-be9d-3fdb748b5811",
   "metadata": {},
   "outputs": [
    {
     "data": {
      "text/plain": [
       "array([1])"
      ]
     },
     "execution_count": 59,
     "metadata": {},
     "output_type": "execute_result"
    }
   ],
   "source": [
    "sample =[[1.56, 0.23, -1.1, -2.8]]\n",
    "answer = model.predict(sample)\n",
    "answer"
   ]
  },
  {
   "cell_type": "code",
   "execution_count": null,
   "id": "bbccce58-5610-4f19-a86a-56839781ca24",
   "metadata": {},
   "outputs": [],
   "source": []
  }
 ],
 "metadata": {
  "kernelspec": {
   "display_name": "Python 3",
   "language": "python",
   "name": "python3"
  },
  "language_info": {
   "codemirror_mode": {
    "name": "ipython",
    "version": 3
   },
   "file_extension": ".py",
   "mimetype": "text/x-python",
   "name": "python",
   "nbconvert_exporter": "python",
   "pygments_lexer": "ipython3",
   "version": "3.8.8"
  }
 },
 "nbformat": 4,
 "nbformat_minor": 5
}
