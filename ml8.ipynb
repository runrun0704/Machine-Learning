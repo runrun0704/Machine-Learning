{
 "cells": [
  {
   "cell_type": "code",
   "execution_count": 1,
   "id": "85163922-23cb-4a6b-a1fe-0ffa338d428c",
   "metadata": {},
   "outputs": [],
   "source": [
    "import pandas as pd\n",
    "%matplotlib inline\n",
    "from sklearn.linear_model import LinearRegression\n",
    "from sklearn.model_selection import train_test_split"
   ]
  },
  {
   "cell_type": "code",
   "execution_count": 2,
   "id": "2c9cb171-a00e-4c11-968a-93bb8449cc10",
   "metadata": {},
   "outputs": [
    {
     "data": {
      "text/html": [
       "<div>\n",
       "<style scoped>\n",
       "    .dataframe tbody tr th:only-of-type {\n",
       "        vertical-align: middle;\n",
       "    }\n",
       "\n",
       "    .dataframe tbody tr th {\n",
       "        vertical-align: top;\n",
       "    }\n",
       "\n",
       "    .dataframe thead th {\n",
       "        text-align: right;\n",
       "    }\n",
       "</style>\n",
       "<table border=\"1\" class=\"dataframe\">\n",
       "  <thead>\n",
       "    <tr style=\"text-align: right;\">\n",
       "      <th></th>\n",
       "      <th>CRIME</th>\n",
       "      <th>ZN</th>\n",
       "      <th>INDUS</th>\n",
       "      <th>CHAS</th>\n",
       "      <th>NOX</th>\n",
       "      <th>RM</th>\n",
       "      <th>AGE</th>\n",
       "      <th>DIS</th>\n",
       "      <th>RAD</th>\n",
       "      <th>TAX</th>\n",
       "      <th>PTRATIO</th>\n",
       "      <th>B</th>\n",
       "      <th>LSTAT</th>\n",
       "      <th>PRICE</th>\n",
       "    </tr>\n",
       "  </thead>\n",
       "  <tbody>\n",
       "    <tr>\n",
       "      <th>0</th>\n",
       "      <td>high</td>\n",
       "      <td>0.0</td>\n",
       "      <td>18.10</td>\n",
       "      <td>0</td>\n",
       "      <td>0.718</td>\n",
       "      <td>3.561</td>\n",
       "      <td>87.9</td>\n",
       "      <td>1.6132</td>\n",
       "      <td>24.0</td>\n",
       "      <td>666</td>\n",
       "      <td>20.2</td>\n",
       "      <td>354.70</td>\n",
       "      <td>7.12</td>\n",
       "      <td>27.5</td>\n",
       "    </tr>\n",
       "    <tr>\n",
       "      <th>1</th>\n",
       "      <td>low</td>\n",
       "      <td>0.0</td>\n",
       "      <td>8.14</td>\n",
       "      <td>0</td>\n",
       "      <td>0.538</td>\n",
       "      <td>5.950</td>\n",
       "      <td>82.0</td>\n",
       "      <td>3.9900</td>\n",
       "      <td>4.0</td>\n",
       "      <td>307</td>\n",
       "      <td>21.0</td>\n",
       "      <td>232.60</td>\n",
       "      <td>27.71</td>\n",
       "      <td>13.2</td>\n",
       "    </tr>\n",
       "    <tr>\n",
       "      <th>2</th>\n",
       "      <td>very_low</td>\n",
       "      <td>82.5</td>\n",
       "      <td>2.03</td>\n",
       "      <td>0</td>\n",
       "      <td>0.415</td>\n",
       "      <td>6.162</td>\n",
       "      <td>38.4</td>\n",
       "      <td>6.2700</td>\n",
       "      <td>2.0</td>\n",
       "      <td>348</td>\n",
       "      <td>14.7</td>\n",
       "      <td>393.77</td>\n",
       "      <td>7.43</td>\n",
       "      <td>24.1</td>\n",
       "    </tr>\n",
       "    <tr>\n",
       "      <th>3</th>\n",
       "      <td>low</td>\n",
       "      <td>0.0</td>\n",
       "      <td>21.89</td>\n",
       "      <td>0</td>\n",
       "      <td>0.624</td>\n",
       "      <td>6.151</td>\n",
       "      <td>97.9</td>\n",
       "      <td>1.6687</td>\n",
       "      <td>4.0</td>\n",
       "      <td>437</td>\n",
       "      <td>21.2</td>\n",
       "      <td>396.90</td>\n",
       "      <td>18.46</td>\n",
       "      <td>17.8</td>\n",
       "    </tr>\n",
       "    <tr>\n",
       "      <th>4</th>\n",
       "      <td>high</td>\n",
       "      <td>0.0</td>\n",
       "      <td>18.10</td>\n",
       "      <td>0</td>\n",
       "      <td>0.614</td>\n",
       "      <td>6.980</td>\n",
       "      <td>67.6</td>\n",
       "      <td>2.5329</td>\n",
       "      <td>24.0</td>\n",
       "      <td>666</td>\n",
       "      <td>20.2</td>\n",
       "      <td>374.68</td>\n",
       "      <td>11.66</td>\n",
       "      <td>29.8</td>\n",
       "    </tr>\n",
       "    <tr>\n",
       "      <th>...</th>\n",
       "      <td>...</td>\n",
       "      <td>...</td>\n",
       "      <td>...</td>\n",
       "      <td>...</td>\n",
       "      <td>...</td>\n",
       "      <td>...</td>\n",
       "      <td>...</td>\n",
       "      <td>...</td>\n",
       "      <td>...</td>\n",
       "      <td>...</td>\n",
       "      <td>...</td>\n",
       "      <td>...</td>\n",
       "      <td>...</td>\n",
       "      <td>...</td>\n",
       "    </tr>\n",
       "    <tr>\n",
       "      <th>95</th>\n",
       "      <td>high</td>\n",
       "      <td>0.0</td>\n",
       "      <td>18.10</td>\n",
       "      <td>0</td>\n",
       "      <td>0.740</td>\n",
       "      <td>6.219</td>\n",
       "      <td>100.0</td>\n",
       "      <td>2.0048</td>\n",
       "      <td>24.0</td>\n",
       "      <td>666</td>\n",
       "      <td>20.2</td>\n",
       "      <td>395.69</td>\n",
       "      <td>16.59</td>\n",
       "      <td>18.4</td>\n",
       "    </tr>\n",
       "    <tr>\n",
       "      <th>96</th>\n",
       "      <td>high</td>\n",
       "      <td>0.0</td>\n",
       "      <td>18.10</td>\n",
       "      <td>0</td>\n",
       "      <td>0.655</td>\n",
       "      <td>5.759</td>\n",
       "      <td>48.2</td>\n",
       "      <td>3.0665</td>\n",
       "      <td>24.0</td>\n",
       "      <td>666</td>\n",
       "      <td>20.2</td>\n",
       "      <td>334.40</td>\n",
       "      <td>14.13</td>\n",
       "      <td>19.9</td>\n",
       "    </tr>\n",
       "    <tr>\n",
       "      <th>97</th>\n",
       "      <td>high</td>\n",
       "      <td>0.0</td>\n",
       "      <td>18.10</td>\n",
       "      <td>0</td>\n",
       "      <td>0.671</td>\n",
       "      <td>6.380</td>\n",
       "      <td>96.2</td>\n",
       "      <td>1.3861</td>\n",
       "      <td>24.0</td>\n",
       "      <td>666</td>\n",
       "      <td>20.2</td>\n",
       "      <td>396.90</td>\n",
       "      <td>23.69</td>\n",
       "      <td>13.1</td>\n",
       "    </tr>\n",
       "    <tr>\n",
       "      <th>98</th>\n",
       "      <td>low</td>\n",
       "      <td>0.0</td>\n",
       "      <td>9.90</td>\n",
       "      <td>0</td>\n",
       "      <td>0.544</td>\n",
       "      <td>5.914</td>\n",
       "      <td>83.2</td>\n",
       "      <td>3.9986</td>\n",
       "      <td>4.0</td>\n",
       "      <td>304</td>\n",
       "      <td>18.4</td>\n",
       "      <td>390.70</td>\n",
       "      <td>18.33</td>\n",
       "      <td>17.8</td>\n",
       "    </tr>\n",
       "    <tr>\n",
       "      <th>99</th>\n",
       "      <td>high</td>\n",
       "      <td>0.0</td>\n",
       "      <td>18.10</td>\n",
       "      <td>0</td>\n",
       "      <td>0.693</td>\n",
       "      <td>5.453</td>\n",
       "      <td>100.0</td>\n",
       "      <td>1.4896</td>\n",
       "      <td>24.0</td>\n",
       "      <td>666</td>\n",
       "      <td>20.2</td>\n",
       "      <td>396.90</td>\n",
       "      <td>30.59</td>\n",
       "      <td>5.0</td>\n",
       "    </tr>\n",
       "  </tbody>\n",
       "</table>\n",
       "<p>100 rows × 14 columns</p>\n",
       "</div>"
      ],
      "text/plain": [
       "       CRIME    ZN  INDUS  CHAS    NOX     RM    AGE     DIS   RAD  TAX  \\\n",
       "0       high   0.0  18.10     0  0.718  3.561   87.9  1.6132  24.0  666   \n",
       "1        low   0.0   8.14     0  0.538  5.950   82.0  3.9900   4.0  307   \n",
       "2   very_low  82.5   2.03     0  0.415  6.162   38.4  6.2700   2.0  348   \n",
       "3        low   0.0  21.89     0  0.624  6.151   97.9  1.6687   4.0  437   \n",
       "4       high   0.0  18.10     0  0.614  6.980   67.6  2.5329  24.0  666   \n",
       "..       ...   ...    ...   ...    ...    ...    ...     ...   ...  ...   \n",
       "95      high   0.0  18.10     0  0.740  6.219  100.0  2.0048  24.0  666   \n",
       "96      high   0.0  18.10     0  0.655  5.759   48.2  3.0665  24.0  666   \n",
       "97      high   0.0  18.10     0  0.671  6.380   96.2  1.3861  24.0  666   \n",
       "98       low   0.0   9.90     0  0.544  5.914   83.2  3.9986   4.0  304   \n",
       "99      high   0.0  18.10     0  0.693  5.453  100.0  1.4896  24.0  666   \n",
       "\n",
       "    PTRATIO       B  LSTAT  PRICE  \n",
       "0      20.2  354.70   7.12   27.5  \n",
       "1      21.0  232.60  27.71   13.2  \n",
       "2      14.7  393.77   7.43   24.1  \n",
       "3      21.2  396.90  18.46   17.8  \n",
       "4      20.2  374.68  11.66   29.8  \n",
       "..      ...     ...    ...    ...  \n",
       "95     20.2  395.69  16.59   18.4  \n",
       "96     20.2  334.40  14.13   19.9  \n",
       "97     20.2  396.90  23.69   13.1  \n",
       "98     18.4  390.70  18.33   17.8  \n",
       "99     20.2  396.90  30.59    5.0  \n",
       "\n",
       "[100 rows x 14 columns]"
      ]
     },
     "execution_count": 2,
     "metadata": {},
     "output_type": "execute_result"
    }
   ],
   "source": [
    "df = pd.read_csv('Boston.csv')\n",
    "df"
   ]
  },
  {
   "cell_type": "code",
   "execution_count": 3,
   "id": "47961e95-72e4-4030-a671-985f013d8a5b",
   "metadata": {},
   "outputs": [
    {
     "data": {
      "text/plain": [
       "very_low    50\n",
       "low         25\n",
       "high        25\n",
       "Name: CRIME, dtype: int64"
      ]
     },
     "execution_count": 3,
     "metadata": {},
     "output_type": "execute_result"
    }
   ],
   "source": [
    "df['CRIME'].value_counts()"
   ]
  },
  {
   "cell_type": "code",
   "execution_count": 4,
   "id": "13a6ae2e-3c3b-4199-abee-ebf90497b795",
   "metadata": {},
   "outputs": [
    {
     "data": {
      "text/html": [
       "<div>\n",
       "<style scoped>\n",
       "    .dataframe tbody tr th:only-of-type {\n",
       "        vertical-align: middle;\n",
       "    }\n",
       "\n",
       "    .dataframe tbody tr th {\n",
       "        vertical-align: top;\n",
       "    }\n",
       "\n",
       "    .dataframe thead th {\n",
       "        text-align: right;\n",
       "    }\n",
       "</style>\n",
       "<table border=\"1\" class=\"dataframe\">\n",
       "  <thead>\n",
       "    <tr style=\"text-align: right;\">\n",
       "      <th></th>\n",
       "      <th>ZN</th>\n",
       "      <th>INDUS</th>\n",
       "      <th>CHAS</th>\n",
       "      <th>NOX</th>\n",
       "      <th>RM</th>\n",
       "      <th>AGE</th>\n",
       "      <th>DIS</th>\n",
       "      <th>RAD</th>\n",
       "      <th>TAX</th>\n",
       "      <th>PTRATIO</th>\n",
       "      <th>B</th>\n",
       "      <th>LSTAT</th>\n",
       "      <th>PRICE</th>\n",
       "      <th>low</th>\n",
       "      <th>very_low</th>\n",
       "    </tr>\n",
       "  </thead>\n",
       "  <tbody>\n",
       "    <tr>\n",
       "      <th>0</th>\n",
       "      <td>0.0</td>\n",
       "      <td>18.10</td>\n",
       "      <td>0</td>\n",
       "      <td>0.718</td>\n",
       "      <td>3.561</td>\n",
       "      <td>87.9</td>\n",
       "      <td>1.6132</td>\n",
       "      <td>24.0</td>\n",
       "      <td>666</td>\n",
       "      <td>20.2</td>\n",
       "      <td>354.70</td>\n",
       "      <td>7.12</td>\n",
       "      <td>27.5</td>\n",
       "      <td>0</td>\n",
       "      <td>0</td>\n",
       "    </tr>\n",
       "    <tr>\n",
       "      <th>1</th>\n",
       "      <td>0.0</td>\n",
       "      <td>8.14</td>\n",
       "      <td>0</td>\n",
       "      <td>0.538</td>\n",
       "      <td>5.950</td>\n",
       "      <td>82.0</td>\n",
       "      <td>3.9900</td>\n",
       "      <td>4.0</td>\n",
       "      <td>307</td>\n",
       "      <td>21.0</td>\n",
       "      <td>232.60</td>\n",
       "      <td>27.71</td>\n",
       "      <td>13.2</td>\n",
       "      <td>1</td>\n",
       "      <td>0</td>\n",
       "    </tr>\n",
       "    <tr>\n",
       "      <th>2</th>\n",
       "      <td>82.5</td>\n",
       "      <td>2.03</td>\n",
       "      <td>0</td>\n",
       "      <td>0.415</td>\n",
       "      <td>6.162</td>\n",
       "      <td>38.4</td>\n",
       "      <td>6.2700</td>\n",
       "      <td>2.0</td>\n",
       "      <td>348</td>\n",
       "      <td>14.7</td>\n",
       "      <td>393.77</td>\n",
       "      <td>7.43</td>\n",
       "      <td>24.1</td>\n",
       "      <td>0</td>\n",
       "      <td>1</td>\n",
       "    </tr>\n",
       "    <tr>\n",
       "      <th>3</th>\n",
       "      <td>0.0</td>\n",
       "      <td>21.89</td>\n",
       "      <td>0</td>\n",
       "      <td>0.624</td>\n",
       "      <td>6.151</td>\n",
       "      <td>97.9</td>\n",
       "      <td>1.6687</td>\n",
       "      <td>4.0</td>\n",
       "      <td>437</td>\n",
       "      <td>21.2</td>\n",
       "      <td>396.90</td>\n",
       "      <td>18.46</td>\n",
       "      <td>17.8</td>\n",
       "      <td>1</td>\n",
       "      <td>0</td>\n",
       "    </tr>\n",
       "    <tr>\n",
       "      <th>4</th>\n",
       "      <td>0.0</td>\n",
       "      <td>18.10</td>\n",
       "      <td>0</td>\n",
       "      <td>0.614</td>\n",
       "      <td>6.980</td>\n",
       "      <td>67.6</td>\n",
       "      <td>2.5329</td>\n",
       "      <td>24.0</td>\n",
       "      <td>666</td>\n",
       "      <td>20.2</td>\n",
       "      <td>374.68</td>\n",
       "      <td>11.66</td>\n",
       "      <td>29.8</td>\n",
       "      <td>0</td>\n",
       "      <td>0</td>\n",
       "    </tr>\n",
       "    <tr>\n",
       "      <th>...</th>\n",
       "      <td>...</td>\n",
       "      <td>...</td>\n",
       "      <td>...</td>\n",
       "      <td>...</td>\n",
       "      <td>...</td>\n",
       "      <td>...</td>\n",
       "      <td>...</td>\n",
       "      <td>...</td>\n",
       "      <td>...</td>\n",
       "      <td>...</td>\n",
       "      <td>...</td>\n",
       "      <td>...</td>\n",
       "      <td>...</td>\n",
       "      <td>...</td>\n",
       "      <td>...</td>\n",
       "    </tr>\n",
       "    <tr>\n",
       "      <th>95</th>\n",
       "      <td>0.0</td>\n",
       "      <td>18.10</td>\n",
       "      <td>0</td>\n",
       "      <td>0.740</td>\n",
       "      <td>6.219</td>\n",
       "      <td>100.0</td>\n",
       "      <td>2.0048</td>\n",
       "      <td>24.0</td>\n",
       "      <td>666</td>\n",
       "      <td>20.2</td>\n",
       "      <td>395.69</td>\n",
       "      <td>16.59</td>\n",
       "      <td>18.4</td>\n",
       "      <td>0</td>\n",
       "      <td>0</td>\n",
       "    </tr>\n",
       "    <tr>\n",
       "      <th>96</th>\n",
       "      <td>0.0</td>\n",
       "      <td>18.10</td>\n",
       "      <td>0</td>\n",
       "      <td>0.655</td>\n",
       "      <td>5.759</td>\n",
       "      <td>48.2</td>\n",
       "      <td>3.0665</td>\n",
       "      <td>24.0</td>\n",
       "      <td>666</td>\n",
       "      <td>20.2</td>\n",
       "      <td>334.40</td>\n",
       "      <td>14.13</td>\n",
       "      <td>19.9</td>\n",
       "      <td>0</td>\n",
       "      <td>0</td>\n",
       "    </tr>\n",
       "    <tr>\n",
       "      <th>97</th>\n",
       "      <td>0.0</td>\n",
       "      <td>18.10</td>\n",
       "      <td>0</td>\n",
       "      <td>0.671</td>\n",
       "      <td>6.380</td>\n",
       "      <td>96.2</td>\n",
       "      <td>1.3861</td>\n",
       "      <td>24.0</td>\n",
       "      <td>666</td>\n",
       "      <td>20.2</td>\n",
       "      <td>396.90</td>\n",
       "      <td>23.69</td>\n",
       "      <td>13.1</td>\n",
       "      <td>0</td>\n",
       "      <td>0</td>\n",
       "    </tr>\n",
       "    <tr>\n",
       "      <th>98</th>\n",
       "      <td>0.0</td>\n",
       "      <td>9.90</td>\n",
       "      <td>0</td>\n",
       "      <td>0.544</td>\n",
       "      <td>5.914</td>\n",
       "      <td>83.2</td>\n",
       "      <td>3.9986</td>\n",
       "      <td>4.0</td>\n",
       "      <td>304</td>\n",
       "      <td>18.4</td>\n",
       "      <td>390.70</td>\n",
       "      <td>18.33</td>\n",
       "      <td>17.8</td>\n",
       "      <td>1</td>\n",
       "      <td>0</td>\n",
       "    </tr>\n",
       "    <tr>\n",
       "      <th>99</th>\n",
       "      <td>0.0</td>\n",
       "      <td>18.10</td>\n",
       "      <td>0</td>\n",
       "      <td>0.693</td>\n",
       "      <td>5.453</td>\n",
       "      <td>100.0</td>\n",
       "      <td>1.4896</td>\n",
       "      <td>24.0</td>\n",
       "      <td>666</td>\n",
       "      <td>20.2</td>\n",
       "      <td>396.90</td>\n",
       "      <td>30.59</td>\n",
       "      <td>5.0</td>\n",
       "      <td>0</td>\n",
       "      <td>0</td>\n",
       "    </tr>\n",
       "  </tbody>\n",
       "</table>\n",
       "<p>100 rows × 15 columns</p>\n",
       "</div>"
      ],
      "text/plain": [
       "      ZN  INDUS  CHAS    NOX     RM    AGE     DIS   RAD  TAX  PTRATIO  \\\n",
       "0    0.0  18.10     0  0.718  3.561   87.9  1.6132  24.0  666     20.2   \n",
       "1    0.0   8.14     0  0.538  5.950   82.0  3.9900   4.0  307     21.0   \n",
       "2   82.5   2.03     0  0.415  6.162   38.4  6.2700   2.0  348     14.7   \n",
       "3    0.0  21.89     0  0.624  6.151   97.9  1.6687   4.0  437     21.2   \n",
       "4    0.0  18.10     0  0.614  6.980   67.6  2.5329  24.0  666     20.2   \n",
       "..   ...    ...   ...    ...    ...    ...     ...   ...  ...      ...   \n",
       "95   0.0  18.10     0  0.740  6.219  100.0  2.0048  24.0  666     20.2   \n",
       "96   0.0  18.10     0  0.655  5.759   48.2  3.0665  24.0  666     20.2   \n",
       "97   0.0  18.10     0  0.671  6.380   96.2  1.3861  24.0  666     20.2   \n",
       "98   0.0   9.90     0  0.544  5.914   83.2  3.9986   4.0  304     18.4   \n",
       "99   0.0  18.10     0  0.693  5.453  100.0  1.4896  24.0  666     20.2   \n",
       "\n",
       "         B  LSTAT  PRICE  low  very_low  \n",
       "0   354.70   7.12   27.5    0         0  \n",
       "1   232.60  27.71   13.2    1         0  \n",
       "2   393.77   7.43   24.1    0         1  \n",
       "3   396.90  18.46   17.8    1         0  \n",
       "4   374.68  11.66   29.8    0         0  \n",
       "..     ...    ...    ...  ...       ...  \n",
       "95  395.69  16.59   18.4    0         0  \n",
       "96  334.40  14.13   19.9    0         0  \n",
       "97  396.90  23.69   13.1    0         0  \n",
       "98  390.70  18.33   17.8    1         0  \n",
       "99  396.90  30.59    5.0    0         0  \n",
       "\n",
       "[100 rows x 15 columns]"
      ]
     },
     "execution_count": 4,
     "metadata": {},
     "output_type": "execute_result"
    }
   ],
   "source": [
    "crime = pd.get_dummies(df['CRIME'], drop_first = True)\n",
    "df2 = pd.concat([df, crime], axis = 1)\n",
    "df2 = df2.drop(['CRIME'],axis=1)\n",
    "df2"
   ]
  },
  {
   "cell_type": "code",
   "execution_count": 5,
   "id": "339e8b10-5f49-4800-914a-c32c7bdbd458",
   "metadata": {},
   "outputs": [],
   "source": [
    "train_val, test = train_test_split(df2, test_size=0.2, random_state = 0)"
   ]
  },
  {
   "cell_type": "code",
   "execution_count": 6,
   "id": "4ebe5143-4ff9-4899-876a-77c97b7b94a2",
   "metadata": {},
   "outputs": [
    {
     "data": {
      "text/plain": [
       "ZN          0\n",
       "INDUS       0\n",
       "CHAS        0\n",
       "NOX         1\n",
       "RM          0\n",
       "AGE         0\n",
       "DIS         0\n",
       "RAD         0\n",
       "TAX         0\n",
       "PTRATIO     0\n",
       "B           0\n",
       "LSTAT       0\n",
       "PRICE       0\n",
       "low         0\n",
       "very_low    0\n",
       "dtype: int64"
      ]
     },
     "execution_count": 6,
     "metadata": {},
     "output_type": "execute_result"
    }
   ],
   "source": [
    "train_val.isna().sum()"
   ]
  },
  {
   "cell_type": "code",
   "execution_count": 7,
   "id": "f5c31638-7214-4cc9-bc7e-c93011822e40",
   "metadata": {},
   "outputs": [],
   "source": [
    "train_val_mean = train_val.mean()\n",
    "train_val2 = train_val.fillna(train_val_mean)"
   ]
  },
  {
   "cell_type": "code",
   "execution_count": 8,
   "id": "32bacaa0-60ea-4c19-99c2-a3dbb8f52e63",
   "metadata": {},
   "outputs": [
    {
     "data": {
      "text/plain": [
       "ZN          0\n",
       "INDUS       0\n",
       "CHAS        0\n",
       "NOX         0\n",
       "RM          0\n",
       "AGE         0\n",
       "DIS         0\n",
       "RAD         0\n",
       "TAX         0\n",
       "PTRATIO     0\n",
       "B           0\n",
       "LSTAT       0\n",
       "PRICE       0\n",
       "low         0\n",
       "very_low    0\n",
       "dtype: int64"
      ]
     },
     "execution_count": 8,
     "metadata": {},
     "output_type": "execute_result"
    }
   ],
   "source": [
    "train_val2.isna().sum()"
   ]
  },
  {
   "cell_type": "code",
   "execution_count": 9,
   "id": "bba1559b-d2b5-481c-8860-c10caf47d7dc",
   "metadata": {},
   "outputs": [
    {
     "data": {
      "image/png": "[encoded data removed]",
      "text/plain": [
       "<Figure size 432x288 with 1 Axes>"
      ]
     },
     "metadata": {
      "needs_background": "light"
     },
     "output_type": "display_data"
    },
    {
     "data": {
      "image/png": "[encoded data removed]",
      "text/plain": [
       "<Figure size 432x288 with 1 Axes>"
      ]
     },
     "metadata": {
      "needs_background": "light"
     },
     "output_type": "display_data"
    },
    {
     "data": {
      "image/png": "[encoded data removed]",
      "text/plain": [
       "<Figure size 432x288 with 1 Axes>"
      ]
     },
     "metadata": {
      "needs_background": "light"
     },
     "output_type": "display_data"
    },
    {
     "data": {
      "image/png": "[encoded data removed]",
      "text/plain": [
       "<Figure size 432x288 with 1 Axes>"
      ]
     },
     "metadata": {
      "needs_background": "light"
     },
     "output_type": "display_data"
    },
    {
     "data": {
      "image/png": "[encoded data removed]",
      "text/plain": [
       "<Figure size 432x288 with 1 Axes>"
      ]
     },
     "metadata": {
      "needs_background": "light"
     },
     "output_type": "display_data"
    },
    {
     "data": {
      "image/png": "[encoded data removed]",
      "text/plain": [
       "<Figure size 432x288 with 1 Axes>"
      ]
     },
     "metadata": {
      "needs_background": "light"
     },
     "output_type": "display_data"
    },
    {
     "data": {
      "image/png": "[encoded data removed]",
      "text/plain": [
       "<Figure size 432x288 with 1 Axes>"
      ]
     },
     "metadata": {
      "needs_background": "light"
     },
     "output_type": "display_data"
    },
    {
     "data": {
      "image/png": "[encoded data removed]",
      "text/plain": [
       "<Figure size 432x288 with 1 Axes>"
      ]
     },
     "metadata": {
      "needs_background": "light"
     },
     "output_type": "display_data"
    },
    {
     "data": {
      "image/png": "[encoded data removed]",
      "text/plain": [
       "<Figure size 432x288 with 1 Axes>"
      ]
     },
     "metadata": {
      "needs_background": "light"
     },
     "output_type": "display_data"
    },
    {
     "data": {
      "image/png": "[encoded data removed]",
      "text/plain": [
       "<Figure size 432x288 with 1 Axes>"
      ]
     },
     "metadata": {
      "needs_background": "light"
     },
     "output_type": "display_data"
    },
    {
     "data": {
      "image/png": "[encoded data removed]",
      "text/plain": [
       "<Figure size 432x288 with 1 Axes>"
      ]
     },
     "metadata": {
      "needs_background": "light"
     },
     "output_type": "display_data"
    },
    {
     "data": {
      "image/png": "[encoded data removed]",
      "text/plain": [
       "<Figure size 432x288 with 1 Axes>"
      ]
     },
     "metadata": {
      "needs_background": "light"
     },
     "output_type": "display_data"
    },
    {
     "data": {
      "image/png": "[encoded data removed]",
      "text/plain": [
       "<Figure size 432x288 with 1 Axes>"
      ]
     },
     "metadata": {
      "needs_background": "light"
     },
     "output_type": "display_data"
    },
    {
     "data": {
      "image/png": "[encoded data removed]",
      "text/plain": [
       "<Figure size 432x288 with 1 Axes>"
      ]
     },
     "metadata": {
      "needs_background": "light"
     },
     "output_type": "display_data"
    },
    {
     "data": {
      "image/png": "[encoded data removed]",
      "text/plain": [
       "<Figure size 432x288 with 1 Axes>"
      ]
     },
     "metadata": {
      "needs_background": "light"
     },
     "output_type": "display_data"
    }
   ],
   "source": [
    "colname = train_val.columns\n",
    "\n",
    "for name in colname:\n",
    "    train_val2.plot(kind='scatter', x= name, y = 'PRICE')"
   ]
  },
  {
   "cell_type": "code",
   "execution_count": 10,
   "id": "84583b10-5dea-4ad6-8c6f-4ad5e093cb6f",
   "metadata": {},
   "outputs": [
    {
     "name": "stdout",
     "output_type": "stream",
     "text": [
      "Int64Index([76], dtype='int64') Int64Index([76], dtype='int64')\n"
     ]
    }
   ],
   "source": [
    "out_line1 = train_val2[(train_val2['RM'] < 6) & (train_val2['PRICE'] > 40)].index\n",
    "out_line2 = train_val2[(train_val['PTRATIO'] > 18) & (train_val['PRICE'] > 40)].index\n",
    "\n",
    "print(out_line1, out_line2)"
   ]
  },
  {
   "cell_type": "code",
   "execution_count": 11,
   "id": "81887eb6-342a-48b8-b492-57425bba9ef4",
   "metadata": {},
   "outputs": [],
   "source": [
    "train_val3 = train_val2.drop([76], axis=0)"
   ]
  },
  {
   "cell_type": "code",
   "execution_count": 12,
   "id": "d94bc085-f239-4f97-98fb-01ddcaf93817",
   "metadata": {},
   "outputs": [
    {
     "data": {
      "text/html": [
       "<div>\n",
       "<style scoped>\n",
       "    .dataframe tbody tr th:only-of-type {\n",
       "        vertical-align: middle;\n",
       "    }\n",
       "\n",
       "    .dataframe tbody tr th {\n",
       "        vertical-align: top;\n",
       "    }\n",
       "\n",
       "    .dataframe thead th {\n",
       "        text-align: right;\n",
       "    }\n",
       "</style>\n",
       "<table border=\"1\" class=\"dataframe\">\n",
       "  <thead>\n",
       "    <tr style=\"text-align: right;\">\n",
       "      <th></th>\n",
       "      <th>INDUS</th>\n",
       "      <th>NOX</th>\n",
       "      <th>RM</th>\n",
       "      <th>PTRATIO</th>\n",
       "      <th>LSTAT</th>\n",
       "      <th>PRICE</th>\n",
       "    </tr>\n",
       "  </thead>\n",
       "  <tbody>\n",
       "    <tr>\n",
       "      <th>43</th>\n",
       "      <td>5.86</td>\n",
       "      <td>0.431</td>\n",
       "      <td>6.108</td>\n",
       "      <td>19.1</td>\n",
       "      <td>9.16</td>\n",
       "      <td>24.3</td>\n",
       "    </tr>\n",
       "    <tr>\n",
       "      <th>62</th>\n",
       "      <td>5.86</td>\n",
       "      <td>0.431</td>\n",
       "      <td>6.957</td>\n",
       "      <td>19.1</td>\n",
       "      <td>3.53</td>\n",
       "      <td>29.6</td>\n",
       "    </tr>\n",
       "    <tr>\n",
       "      <th>3</th>\n",
       "      <td>21.89</td>\n",
       "      <td>0.624</td>\n",
       "      <td>6.151</td>\n",
       "      <td>21.2</td>\n",
       "      <td>18.46</td>\n",
       "      <td>17.8</td>\n",
       "    </tr>\n",
       "  </tbody>\n",
       "</table>\n",
       "</div>"
      ],
      "text/plain": [
       "    INDUS    NOX     RM  PTRATIO  LSTAT  PRICE\n",
       "43   5.86  0.431  6.108     19.1   9.16   24.3\n",
       "62   5.86  0.431  6.957     19.1   3.53   29.6\n",
       "3   21.89  0.624  6.151     21.2  18.46   17.8"
      ]
     },
     "execution_count": 12,
     "metadata": {},
     "output_type": "execute_result"
    }
   ],
   "source": [
    "col = ['INDUS','NOX','RM','PTRATIO','LSTAT','PRICE']\n",
    "\n",
    "train_val4 = train_val3[col]\n",
    "train_val4.head(3)"
   ]
  },
  {
   "cell_type": "code",
   "execution_count": 13,
   "id": "ab33f452-de35-4c5f-b19b-0edeba3090db",
   "metadata": {},
   "outputs": [
    {
     "data": {
      "image/png": "[encoded data removed]",
      "text/plain": [
       "<Figure size 432x288 with 1 Axes>"
      ]
     },
     "metadata": {
      "needs_background": "light"
     },
     "output_type": "display_data"
    },
    {
     "data": {
      "image/png": "[encoded data removed]",
      "text/plain": [
       "<Figure size 432x288 with 1 Axes>"
      ]
     },
     "metadata": {
      "needs_background": "light"
     },
     "output_type": "display_data"
    },
    {
     "data": {
      "image/png": "[encoded data removed]",
      "text/plain": [
       "<Figure size 432x288 with 1 Axes>"
      ]
     },
     "metadata": {
      "needs_background": "light"
     },
     "output_type": "display_data"
    },
    {
     "data": {
      "image/png": "[encoded data removed]",
      "text/plain": [
       "<Figure size 432x288 with 1 Axes>"
      ]
     },
     "metadata": {
      "needs_background": "light"
     },
     "output_type": "display_data"
    },
    {
     "data": {
      "image/png": "[encoded data removed]",
      "text/plain": [
       "<Figure size 432x288 with 1 Axes>"
      ]
     },
     "metadata": {
      "needs_background": "light"
     },
     "output_type": "display_data"
    },
    {
     "data": {
      "image/png": "[encoded data removed]",
      "text/plain": [
       "<Figure size 432x288 with 1 Axes>"
      ]
     },
     "metadata": {
      "needs_background": "light"
     },
     "output_type": "display_data"
    }
   ],
   "source": [
    "colname = train_val4.columns\n",
    "\n",
    "for i in colname:\n",
    "    train_val4.plot(kind = 'scatter', x = i, y = 'PRICE')"
   ]
  },
  {
   "cell_type": "code",
   "execution_count": 14,
   "id": "e0bfb791-6669-40d5-a499-a0f55d25449d",
   "metadata": {},
   "outputs": [
    {
     "data": {
      "text/html": [
       "<div>\n",
       "<style scoped>\n",
       "    .dataframe tbody tr th:only-of-type {\n",
       "        vertical-align: middle;\n",
       "    }\n",
       "\n",
       "    .dataframe tbody tr th {\n",
       "        vertical-align: top;\n",
       "    }\n",
       "\n",
       "    .dataframe thead th {\n",
       "        text-align: right;\n",
       "    }\n",
       "</style>\n",
       "<table border=\"1\" class=\"dataframe\">\n",
       "  <thead>\n",
       "    <tr style=\"text-align: right;\">\n",
       "      <th></th>\n",
       "      <th>INDUS</th>\n",
       "      <th>NOX</th>\n",
       "      <th>RM</th>\n",
       "      <th>PTRATIO</th>\n",
       "      <th>LSTAT</th>\n",
       "      <th>PRICE</th>\n",
       "    </tr>\n",
       "  </thead>\n",
       "  <tbody>\n",
       "    <tr>\n",
       "      <th>INDUS</th>\n",
       "      <td>1.000000</td>\n",
       "      <td>0.785722</td>\n",
       "      <td>-0.403129</td>\n",
       "      <td>0.249438</td>\n",
       "      <td>0.578406</td>\n",
       "      <td>-0.470889</td>\n",
       "    </tr>\n",
       "    <tr>\n",
       "      <th>NOX</th>\n",
       "      <td>0.785722</td>\n",
       "      <td>1.000000</td>\n",
       "      <td>-0.272996</td>\n",
       "      <td>0.077533</td>\n",
       "      <td>0.484295</td>\n",
       "      <td>-0.325289</td>\n",
       "    </tr>\n",
       "    <tr>\n",
       "      <th>RM</th>\n",
       "      <td>-0.403129</td>\n",
       "      <td>-0.272996</td>\n",
       "      <td>1.000000</td>\n",
       "      <td>-0.404568</td>\n",
       "      <td>-0.560454</td>\n",
       "      <td>0.753771</td>\n",
       "    </tr>\n",
       "    <tr>\n",
       "      <th>PTRATIO</th>\n",
       "      <td>0.249438</td>\n",
       "      <td>0.077533</td>\n",
       "      <td>-0.404568</td>\n",
       "      <td>1.000000</td>\n",
       "      <td>0.326563</td>\n",
       "      <td>-0.542449</td>\n",
       "    </tr>\n",
       "    <tr>\n",
       "      <th>LSTAT</th>\n",
       "      <td>0.578406</td>\n",
       "      <td>0.484295</td>\n",
       "      <td>-0.560454</td>\n",
       "      <td>0.326563</td>\n",
       "      <td>1.000000</td>\n",
       "      <td>-0.693490</td>\n",
       "    </tr>\n",
       "    <tr>\n",
       "      <th>PRICE</th>\n",
       "      <td>-0.470889</td>\n",
       "      <td>-0.325289</td>\n",
       "      <td>0.753771</td>\n",
       "      <td>-0.542449</td>\n",
       "      <td>-0.693490</td>\n",
       "      <td>1.000000</td>\n",
       "    </tr>\n",
       "  </tbody>\n",
       "</table>\n",
       "</div>"
      ],
      "text/plain": [
       "            INDUS       NOX        RM   PTRATIO     LSTAT     PRICE\n",
       "INDUS    1.000000  0.785722 -0.403129  0.249438  0.578406 -0.470889\n",
       "NOX      0.785722  1.000000 -0.272996  0.077533  0.484295 -0.325289\n",
       "RM      -0.403129 -0.272996  1.000000 -0.404568 -0.560454  0.753771\n",
       "PTRATIO  0.249438  0.077533 -0.404568  1.000000  0.326563 -0.542449\n",
       "LSTAT    0.578406  0.484295 -0.560454  0.326563  1.000000 -0.693490\n",
       "PRICE   -0.470889 -0.325289  0.753771 -0.542449 -0.693490  1.000000"
      ]
     },
     "execution_count": 14,
     "metadata": {},
     "output_type": "execute_result"
    }
   ],
   "source": [
    "train_val4.corr()"
   ]
  },
  {
   "cell_type": "code",
   "execution_count": 15,
   "id": "14b94088-f57e-48bb-b7bb-d625ea93e4f7",
   "metadata": {},
   "outputs": [
    {
     "data": {
      "text/plain": [
       "INDUS     -0.470889\n",
       "NOX       -0.325289\n",
       "RM         0.753771\n",
       "PTRATIO   -0.542449\n",
       "LSTAT     -0.693490\n",
       "PRICE      1.000000\n",
       "Name: PRICE, dtype: float64"
      ]
     },
     "execution_count": 15,
     "metadata": {},
     "output_type": "execute_result"
    }
   ],
   "source": [
    "train_cor = train_val4.corr()['PRICE']\n",
    "train_cor"
   ]
  },
  {
   "cell_type": "code",
   "execution_count": 16,
   "id": "3d3a70bb-41c5-4128-bd0a-bc57b9e70ea2",
   "metadata": {},
   "outputs": [
    {
     "data": {
      "text/plain": [
       "0    1\n",
       "1    2\n",
       "2    3\n",
       "3    4\n",
       "dtype: int64"
      ]
     },
     "execution_count": 16,
     "metadata": {},
     "output_type": "execute_result"
    }
   ],
   "source": [
    "se = pd.Series([1,-2,3,-4])\n",
    "se.map(abs)"
   ]
  },
  {
   "cell_type": "code",
   "execution_count": 17,
   "id": "18037526-291f-46c3-a32e-b4746213830c",
   "metadata": {},
   "outputs": [
    {
     "data": {
      "text/plain": [
       "INDUS      0.470889\n",
       "NOX        0.325289\n",
       "RM         0.753771\n",
       "PTRATIO    0.542449\n",
       "LSTAT      0.693490\n",
       "PRICE      1.000000\n",
       "Name: PRICE, dtype: float64"
      ]
     },
     "execution_count": 17,
     "metadata": {},
     "output_type": "execute_result"
    }
   ],
   "source": [
    "abs_cor = train_cor.map(abs)\n",
    "abs_cor"
   ]
  },
  {
   "cell_type": "code",
   "execution_count": 18,
   "id": "1ce060e4-6222-4812-8bae-4eedc35f050c",
   "metadata": {},
   "outputs": [
    {
     "data": {
      "text/plain": [
       "PRICE      1.000000\n",
       "RM         0.753771\n",
       "LSTAT      0.693490\n",
       "PTRATIO    0.542449\n",
       "INDUS      0.470889\n",
       "NOX        0.325289\n",
       "Name: PRICE, dtype: float64"
      ]
     },
     "execution_count": 18,
     "metadata": {},
     "output_type": "execute_result"
    }
   ],
   "source": [
    "abs_cor.sort_values(ascending = False)"
   ]
  },
  {
   "cell_type": "code",
   "execution_count": 19,
   "id": "2b6241f4-87b9-4924-8ed3-193abdd92369",
   "metadata": {},
   "outputs": [],
   "source": [
    "col = ['RM','LSTAT','PTRATIO']\n",
    "\n",
    "x = train_val4[col]\n",
    "t = train_val4[['PRICE']]\n",
    "\n",
    "x_train, x_val, y_train, y_val = train_test_split(x,t, test_size = 0.2, random_state = 0)"
   ]
  },
  {
   "cell_type": "code",
   "execution_count": 20,
   "id": "fc9cbc2d-8251-4a09-b68c-61b71920151d",
   "metadata": {},
   "outputs": [
    {
     "data": {
      "text/plain": [
       "array([[-0.10238334, -0.89546338, -0.97250163],\n",
       "       [-0.11741281, -0.37386886,  1.21732721],\n",
       "       [-0.92274224,  2.49984836,  0.83648742],\n",
       "       [ 1.60346221, -1.37747891, -2.59107078],\n",
       "       [-0.21134704, -0.36821472, -0.30603198],\n",
       "       [ 0.28337322, -0.54632017, -0.87729168],\n",
       "       [ 2.01927772, -1.55275729, -1.7817862 ],\n",
       "       [-0.42551707, -0.58448562,  0.36043767],\n",
       "       [-0.39420567,  0.21557535, -1.7817862 ],\n",
       "       [-0.21886178, -0.00634969,  0.02720284],\n",
       "       [-0.48438252,  0.24525959,  0.83648742],\n",
       "       [ 0.02411475,  0.04453758,  0.83648742],\n",
       "       [ 0.31092726, -1.31669689,  0.31283269],\n",
       "       [ 2.08315299, -1.28559912, -1.7817862 ],\n",
       "       [-0.98411261,  1.56550154,  0.07480782],\n",
       "       [-0.28398951,  0.07704889, -0.78208173],\n",
       "       [-0.9039554 ,  1.91040415, -1.7817862 ],\n",
       "       [ 0.23828479,  1.52450902,  0.83648742],\n",
       "       [-0.12993738, -0.28622968, -0.49645188],\n",
       "       [-0.18629791, -0.73573389,  0.55085757],\n",
       "       [-0.37917619,  0.48697412,  0.83648742],\n",
       "       [ 0.9897586 , -0.17597392,  0.83648742],\n",
       "       [ 0.02411475, -0.81489187, -0.87729168],\n",
       "       [-3.29238966, -0.81771894,  0.83648742],\n",
       "       [-1.10935824,  1.94150192,  0.83648742],\n",
       "       [-0.0460228 ,  0.03464283, -0.30603198],\n",
       "       [ 0.9609521 , -1.32517811,  0.31283269],\n",
       "       [-0.83882767,  1.64748659,  0.83648742],\n",
       "       [-0.22637651,  0.05160526, -1.54376133],\n",
       "       [ 0.43617289, -0.73149329,  0.07480782],\n",
       "       [-0.34535987,  0.76685411, -0.02040213],\n",
       "       [-0.30027144,  2.0927502 ,  1.21732721],\n",
       "       [-0.98411261,  0.05301879, -1.7817862 ],\n",
       "       [-0.13369475, -0.01624444,  0.55085757],\n",
       "       [ 3.14899334, -1.100426  , -2.59107078],\n",
       "       [-0.38794338, -0.12367312, -1.7817862 ],\n",
       "       [-0.10238334, -0.52935774,  0.31283269],\n",
       "       [ 0.5451366 , -0.8841551 , -0.21082203],\n",
       "       [ 0.33973375,  0.72727512,  0.83648742],\n",
       "       [ 2.04182193, -1.31952396, -0.21082203],\n",
       "       [-0.97409295,  2.35284069,  0.07480782],\n",
       "       [ 0.26834374,  1.04673409,  0.83648742],\n",
       "       [-0.20007493,  0.83329027, -0.25842701],\n",
       "       [ 0.46998921, -0.47988401, -0.87729168],\n",
       "       [-0.35663198, -0.20565816,  0.83648742],\n",
       "       [ 0.1405932 , -0.87426035,  0.26522772],\n",
       "       [-0.28148459,  0.13076323,  1.21732721],\n",
       "       [ 1.21895811, -0.92514762, -0.49645188],\n",
       "       [ 0.41989096,  0.7385834 ,  0.83648742],\n",
       "       [ 0.06544581, -0.30601917,  0.83648742],\n",
       "       [-0.28023214, -0.39224482,  0.36043767],\n",
       "       [-0.60587079, -0.06713171, -0.73447676],\n",
       "       [-0.20007493, -0.71029026,  1.21732721],\n",
       "       [ 0.2896355 , -0.53218481, -0.30603198],\n",
       "       [-0.42426462,  0.50393655,  1.16972224],\n",
       "       [ 1.97293683, -0.75552339, -0.30603198],\n",
       "       [-0.41674988,  1.18950116,  1.31253716],\n",
       "       [-0.56203482,  0.03464283,  0.59846254],\n",
       "       [ 0.15061285, -0.87001975,  0.83648742],\n",
       "       [-2.56972234,  1.47503528,  0.83648742],\n",
       "       [-0.95530611,  0.73999694,  0.83648742],\n",
       "       [ 0.04540651, -0.38941775,  0.31283269],\n",
       "       [ 1.24651215, -1.25450134, -0.30603198]])"
      ]
     },
     "execution_count": 20,
     "metadata": {},
     "output_type": "execute_result"
    }
   ],
   "source": [
    "from sklearn.preprocessing import StandardScaler\n",
    "\n",
    "sc_model_x = StandardScaler()\n",
    "sc_model_x.fit(x_train)\n",
    "sc_x = sc_model_x.transform(x_train)\n",
    "sc_x"
   ]
  },
  {
   "cell_type": "code",
   "execution_count": 21,
   "id": "fc62426d-e1ee-4335-b3a4-6f422904944d",
   "metadata": {},
   "outputs": [
    {
     "data": {
      "text/plain": [
       "RM        -3.559763e-16\n",
       "LSTAT      1.727014e-16\n",
       "PTRATIO   -1.436241e-16\n",
       "dtype: float64"
      ]
     },
     "execution_count": 21,
     "metadata": {},
     "output_type": "execute_result"
    }
   ],
   "source": [
    "tmp_df = pd.DataFrame(sc_x, columns = x_train.columns)\n",
    "\n",
    "tmp_df.mean()"
   ]
  },
  {
   "cell_type": "code",
   "execution_count": 22,
   "id": "e73563e5-ac85-4162-9430-73a64a29c4a8",
   "metadata": {},
   "outputs": [
    {
     "data": {
      "text/plain": [
       "RM         1.008032\n",
       "LSTAT      1.008032\n",
       "PTRATIO    1.008032\n",
       "dtype: float64"
      ]
     },
     "execution_count": 22,
     "metadata": {},
     "output_type": "execute_result"
    }
   ],
   "source": [
    "tmp_df.std()"
   ]
  },
  {
   "cell_type": "code",
   "execution_count": 23,
   "id": "4ae5d370-f309-4d36-894f-075ca19c4eac",
   "metadata": {},
   "outputs": [],
   "source": [
    "sc_model_y = StandardScaler()\n",
    "sc_model_y.fit(y_train)\n",
    "\n",
    "sc_y = sc_model_y.transform(y_train)"
   ]
  },
  {
   "cell_type": "code",
   "execution_count": 24,
   "id": "f8908b14-9dee-44ea-9c4f-03465c8c9cc1",
   "metadata": {},
   "outputs": [
    {
     "data": {
      "text/plain": [
       "LinearRegression()"
      ]
     },
     "execution_count": 24,
     "metadata": {},
     "output_type": "execute_result"
    }
   ],
   "source": [
    "model = LinearRegression()\n",
    "\n",
    "model.fit(sc_x, sc_y)"
   ]
  },
  {
   "cell_type": "code",
   "execution_count": 25,
   "id": "9629ebb6-18bb-4fc9-bb66-86ff4d32dbf7",
   "metadata": {},
   "outputs": [
    {
     "data": {
      "text/plain": [
       "-13.08504437504009"
      ]
     },
     "execution_count": 25,
     "metadata": {},
     "output_type": "execute_result"
    }
   ],
   "source": [
    "model.score(x_val,y_val)"
   ]
  },
  {
   "cell_type": "code",
   "execution_count": 26,
   "id": "72b6ac25-34b2-4dd0-97eb-94fd16d7b8ef",
   "metadata": {},
   "outputs": [
    {
     "data": {
      "text/plain": [
       "0.7359028880290996"
      ]
     },
     "execution_count": 26,
     "metadata": {},
     "output_type": "execute_result"
    }
   ],
   "source": [
    "sc_x_val = sc_model_x.transform(x_val)\n",
    "sc_y_val = sc_model_y.transform(y_val)\n",
    "\n",
    "model.score(sc_x_val, sc_y_val)"
   ]
  },
  {
   "cell_type": "code",
   "execution_count": 27,
   "id": "30e6d21e-d7dc-463b-9477-5ff677cef98d",
   "metadata": {},
   "outputs": [],
   "source": [
    "def learn(x, t):\n",
    "    x_train, x_val, y_train, y_val = train_test_split(x, t, test_size = 0.2,random_state = 0)\n",
    "    \n",
    "    sc_model_x = StandardScaler()\n",
    "    sc_model_y = StandardScaler()\n",
    "    sc_model_x.fit(x_train)\n",
    "    sc_x_train = sc_model_x.transform(x_train)\n",
    "    sc_model_y.fit(y_train)\n",
    "    sc_y_train = sc_model_y.transform(y_train)\n",
    "    \n",
    "    model = LinearRegression()\n",
    "    model.fit(sc_x_train, sc_y_train)\n",
    "    \n",
    "    sc_x_val = sc_model_x.transform(x_val)\n",
    "    sc_y_val = sc_model_y.transform(y_val)\n",
    "    \n",
    "    train_score = model.score(sc_x_train, sc_y_train)\n",
    "    val_score = model.score(sc_x_val, sc_y_val)\n",
    "    \n",
    "    return train_score, val_score"
   ]
  },
  {
   "cell_type": "code",
   "execution_count": 28,
   "id": "81c42e75-91cd-412a-b8e0-d6dd12d93d03",
   "metadata": {},
   "outputs": [
    {
     "name": "stdout",
     "output_type": "stream",
     "text": [
      "0.7175897572515981 0.7359028880290996\n"
     ]
    }
   ],
   "source": [
    "x = train_val3.loc[:, ['RM', 'LSTAT', 'PTRATIO']]\n",
    "t = train_val3[['PRICE']]\n",
    "\n",
    "s1,s2 = learn(x, t)\n",
    "print(s1, s2)"
   ]
  },
  {
   "cell_type": "code",
   "execution_count": 31,
   "id": "3eb1784b-c754-49c8-abec-27aaf2eefd08",
   "metadata": {},
   "outputs": [
    {
     "data": {
      "text/html": [
       "<div>\n",
       "<style scoped>\n",
       "    .dataframe tbody tr th:only-of-type {\n",
       "        vertical-align: middle;\n",
       "    }\n",
       "\n",
       "    .dataframe tbody tr th {\n",
       "        vertical-align: top;\n",
       "    }\n",
       "\n",
       "    .dataframe thead th {\n",
       "        text-align: right;\n",
       "    }\n",
       "</style>\n",
       "<table border=\"1\" class=\"dataframe\">\n",
       "  <thead>\n",
       "    <tr style=\"text-align: right;\">\n",
       "      <th></th>\n",
       "      <th>RM</th>\n",
       "      <th>LSTAT</th>\n",
       "      <th>PTRATIO</th>\n",
       "      <th>RM2</th>\n",
       "    </tr>\n",
       "  </thead>\n",
       "  <tbody>\n",
       "    <tr>\n",
       "      <th>43</th>\n",
       "      <td>6.108</td>\n",
       "      <td>9.16</td>\n",
       "      <td>19.1</td>\n",
       "      <td>37.307664</td>\n",
       "    </tr>\n",
       "    <tr>\n",
       "      <th>62</th>\n",
       "      <td>6.957</td>\n",
       "      <td>3.53</td>\n",
       "      <td>19.1</td>\n",
       "      <td>48.399849</td>\n",
       "    </tr>\n",
       "    <tr>\n",
       "      <th>3</th>\n",
       "      <td>6.151</td>\n",
       "      <td>18.46</td>\n",
       "      <td>21.2</td>\n",
       "      <td>37.834801</td>\n",
       "    </tr>\n",
       "  </tbody>\n",
       "</table>\n",
       "</div>"
      ],
      "text/plain": [
       "       RM  LSTAT  PTRATIO        RM2\n",
       "43  6.108   9.16     19.1  37.307664\n",
       "62  6.957   3.53     19.1  48.399849\n",
       "3   6.151  18.46     21.2  37.834801"
      ]
     },
     "execution_count": 31,
     "metadata": {},
     "output_type": "execute_result"
    }
   ],
   "source": [
    "x['RM2'] = x['RM']**2\n",
    "\n",
    "x.head(3)"
   ]
  },
  {
   "cell_type": "code",
   "execution_count": null,
   "id": "b6ded5f6-943f-4e14-9ba1-0c82cfa696b2",
   "metadata": {},
   "outputs": [],
   "source": [
    "x"
   ]
  },
  {
   "cell_type": "code",
   "execution_count": 32,
   "id": "0611e2fe-7bc5-4547-9f68-2fb3243501b3",
   "metadata": {},
   "outputs": [
    {
     "name": "stdout",
     "output_type": "stream",
     "text": [
      "0.8456207631185567 0.8372526287986775\n"
     ]
    }
   ],
   "source": [
    "s1, s2 = learn(x, t)\n",
    "print(s1, s2)"
   ]
  },
  {
   "cell_type": "code",
   "execution_count": 33,
   "id": "51fce120-cca1-49bc-a5b0-feb00eed2070",
   "metadata": {},
   "outputs": [
    {
     "name": "stdout",
     "output_type": "stream",
     "text": [
      "0.8565689444345093 0.8425282632102127\n",
      "0.864383498898444 0.8678022326740727\n"
     ]
    }
   ],
   "source": [
    "x['LSTAT2'] = x['LSTAT'] ** 2\n",
    "s1, s2 = learn(x, t)\n",
    "print(s1, s2)\n",
    "\n",
    "x['PTRATIO2'] = x['PTRATIO'] ** 2\n",
    "s1, s2 = learn(x, t)\n",
    "print(s1, s2)"
   ]
  },
  {
   "cell_type": "code",
   "execution_count": 34,
   "id": "7dd15792-6052-4d14-8c3a-4dcd1699fdf9",
   "metadata": {},
   "outputs": [
    {
     "data": {
      "text/html": [
       "<div>\n",
       "<style scoped>\n",
       "    .dataframe tbody tr th:only-of-type {\n",
       "        vertical-align: middle;\n",
       "    }\n",
       "\n",
       "    .dataframe tbody tr th {\n",
       "        vertical-align: top;\n",
       "    }\n",
       "\n",
       "    .dataframe thead th {\n",
       "        text-align: right;\n",
       "    }\n",
       "</style>\n",
       "<table border=\"1\" class=\"dataframe\">\n",
       "  <thead>\n",
       "    <tr style=\"text-align: right;\">\n",
       "      <th></th>\n",
       "      <th>RM</th>\n",
       "      <th>LSTAT</th>\n",
       "      <th>PTRATIO</th>\n",
       "      <th>RM2</th>\n",
       "      <th>LSTAT2</th>\n",
       "      <th>PTRATIO2</th>\n",
       "    </tr>\n",
       "  </thead>\n",
       "  <tbody>\n",
       "    <tr>\n",
       "      <th>43</th>\n",
       "      <td>6.108</td>\n",
       "      <td>9.16</td>\n",
       "      <td>19.1</td>\n",
       "      <td>37.307664</td>\n",
       "      <td>83.9056</td>\n",
       "      <td>364.81</td>\n",
       "    </tr>\n",
       "    <tr>\n",
       "      <th>62</th>\n",
       "      <td>6.957</td>\n",
       "      <td>3.53</td>\n",
       "      <td>19.1</td>\n",
       "      <td>48.399849</td>\n",
       "      <td>12.4609</td>\n",
       "      <td>364.81</td>\n",
       "    </tr>\n",
       "    <tr>\n",
       "      <th>3</th>\n",
       "      <td>6.151</td>\n",
       "      <td>18.46</td>\n",
       "      <td>21.2</td>\n",
       "      <td>37.834801</td>\n",
       "      <td>340.7716</td>\n",
       "      <td>449.44</td>\n",
       "    </tr>\n",
       "    <tr>\n",
       "      <th>71</th>\n",
       "      <td>6.108</td>\n",
       "      <td>6.57</td>\n",
       "      <td>16.4</td>\n",
       "      <td>37.307664</td>\n",
       "      <td>43.1649</td>\n",
       "      <td>268.96</td>\n",
       "    </tr>\n",
       "    <tr>\n",
       "      <th>45</th>\n",
       "      <td>5.963</td>\n",
       "      <td>13.45</td>\n",
       "      <td>16.8</td>\n",
       "      <td>35.557369</td>\n",
       "      <td>180.9025</td>\n",
       "      <td>282.24</td>\n",
       "    </tr>\n",
       "    <tr>\n",
       "      <th>...</th>\n",
       "      <td>...</td>\n",
       "      <td>...</td>\n",
       "      <td>...</td>\n",
       "      <td>...</td>\n",
       "      <td>...</td>\n",
       "      <td>...</td>\n",
       "    </tr>\n",
       "    <tr>\n",
       "      <th>96</th>\n",
       "      <td>5.759</td>\n",
       "      <td>14.13</td>\n",
       "      <td>20.2</td>\n",
       "      <td>33.166081</td>\n",
       "      <td>199.6569</td>\n",
       "      <td>408.04</td>\n",
       "    </tr>\n",
       "    <tr>\n",
       "      <th>67</th>\n",
       "      <td>6.310</td>\n",
       "      <td>6.75</td>\n",
       "      <td>20.2</td>\n",
       "      <td>39.816100</td>\n",
       "      <td>45.5625</td>\n",
       "      <td>408.04</td>\n",
       "    </tr>\n",
       "    <tr>\n",
       "      <th>64</th>\n",
       "      <td>6.249</td>\n",
       "      <td>10.59</td>\n",
       "      <td>18.2</td>\n",
       "      <td>39.050001</td>\n",
       "      <td>112.1481</td>\n",
       "      <td>331.24</td>\n",
       "    </tr>\n",
       "    <tr>\n",
       "      <th>47</th>\n",
       "      <td>6.625</td>\n",
       "      <td>6.65</td>\n",
       "      <td>18.0</td>\n",
       "      <td>43.890625</td>\n",
       "      <td>44.2225</td>\n",
       "      <td>324.00</td>\n",
       "    </tr>\n",
       "    <tr>\n",
       "      <th>44</th>\n",
       "      <td>5.850</td>\n",
       "      <td>8.77</td>\n",
       "      <td>19.2</td>\n",
       "      <td>34.222500</td>\n",
       "      <td>76.9129</td>\n",
       "      <td>368.64</td>\n",
       "    </tr>\n",
       "  </tbody>\n",
       "</table>\n",
       "<p>79 rows × 6 columns</p>\n",
       "</div>"
      ],
      "text/plain": [
       "       RM  LSTAT  PTRATIO        RM2    LSTAT2  PTRATIO2\n",
       "43  6.108   9.16     19.1  37.307664   83.9056    364.81\n",
       "62  6.957   3.53     19.1  48.399849   12.4609    364.81\n",
       "3   6.151  18.46     21.2  37.834801  340.7716    449.44\n",
       "71  6.108   6.57     16.4  37.307664   43.1649    268.96\n",
       "45  5.963  13.45     16.8  35.557369  180.9025    282.24\n",
       "..    ...    ...      ...        ...       ...       ...\n",
       "96  5.759  14.13     20.2  33.166081  199.6569    408.04\n",
       "67  6.310   6.75     20.2  39.816100   45.5625    408.04\n",
       "64  6.249  10.59     18.2  39.050001  112.1481    331.24\n",
       "47  6.625   6.65     18.0  43.890625   44.2225    324.00\n",
       "44  5.850   8.77     19.2  34.222500   76.9129    368.64\n",
       "\n",
       "[79 rows x 6 columns]"
      ]
     },
     "execution_count": 34,
     "metadata": {},
     "output_type": "execute_result"
    }
   ],
   "source": [
    "x"
   ]
  },
  {
   "cell_type": "code",
   "execution_count": 35,
   "id": "dbfccd73-faa6-48d5-b165-80b637962e7f",
   "metadata": {},
   "outputs": [
    {
     "data": {
      "text/html": [
       "<div>\n",
       "<style scoped>\n",
       "    .dataframe tbody tr th:only-of-type {\n",
       "        vertical-align: middle;\n",
       "    }\n",
       "\n",
       "    .dataframe tbody tr th {\n",
       "        vertical-align: top;\n",
       "    }\n",
       "\n",
       "    .dataframe thead th {\n",
       "        text-align: right;\n",
       "    }\n",
       "</style>\n",
       "<table border=\"1\" class=\"dataframe\">\n",
       "  <thead>\n",
       "    <tr style=\"text-align: right;\">\n",
       "      <th></th>\n",
       "      <th>RM</th>\n",
       "      <th>LSTAT</th>\n",
       "      <th>PTRATIO</th>\n",
       "      <th>RM2</th>\n",
       "      <th>LSTAT2</th>\n",
       "      <th>PTRATIO2</th>\n",
       "      <th>RM * LSTAT</th>\n",
       "    </tr>\n",
       "  </thead>\n",
       "  <tbody>\n",
       "    <tr>\n",
       "      <th>43</th>\n",
       "      <td>6.108</td>\n",
       "      <td>9.16</td>\n",
       "      <td>19.1</td>\n",
       "      <td>37.307664</td>\n",
       "      <td>83.9056</td>\n",
       "      <td>364.81</td>\n",
       "      <td>55.94928</td>\n",
       "    </tr>\n",
       "    <tr>\n",
       "      <th>62</th>\n",
       "      <td>6.957</td>\n",
       "      <td>3.53</td>\n",
       "      <td>19.1</td>\n",
       "      <td>48.399849</td>\n",
       "      <td>12.4609</td>\n",
       "      <td>364.81</td>\n",
       "      <td>24.55821</td>\n",
       "    </tr>\n",
       "    <tr>\n",
       "      <th>3</th>\n",
       "      <td>6.151</td>\n",
       "      <td>18.46</td>\n",
       "      <td>21.2</td>\n",
       "      <td>37.834801</td>\n",
       "      <td>340.7716</td>\n",
       "      <td>449.44</td>\n",
       "      <td>113.54746</td>\n",
       "    </tr>\n",
       "  </tbody>\n",
       "</table>\n",
       "</div>"
      ],
      "text/plain": [
       "       RM  LSTAT  PTRATIO        RM2    LSTAT2  PTRATIO2  RM * LSTAT\n",
       "43  6.108   9.16     19.1  37.307664   83.9056    364.81    55.94928\n",
       "62  6.957   3.53     19.1  48.399849   12.4609    364.81    24.55821\n",
       "3   6.151  18.46     21.2  37.834801  340.7716    449.44   113.54746"
      ]
     },
     "execution_count": 35,
     "metadata": {},
     "output_type": "execute_result"
    }
   ],
   "source": [
    "x['RM * LSTAT'] = x['RM'] * x['LSTAT']\n",
    "x.head(3)"
   ]
  },
  {
   "cell_type": "code",
   "execution_count": 36,
   "id": "b72b69a0-0f93-41a0-8b00-d11d2349182d",
   "metadata": {},
   "outputs": [
    {
     "name": "stdout",
     "output_type": "stream",
     "text": [
      "0.8668534967796696 0.873934735777597\n"
     ]
    }
   ],
   "source": [
    "s1, s2 =learn(x, t)\n",
    "print(s1, s2)"
   ]
  },
  {
   "cell_type": "code",
   "execution_count": 37,
   "id": "7038e552-8f35-4e23-9bf9-d7f234964dbe",
   "metadata": {},
   "outputs": [
    {
     "data": {
      "text/plain": [
       "LinearRegression()"
      ]
     },
     "execution_count": 37,
     "metadata": {},
     "output_type": "execute_result"
    }
   ],
   "source": [
    "sc_model_x2 = StandardScaler()\n",
    "sc_model_x2.fit(x)\n",
    "sc_x = sc_model_x2.transform(x)\n",
    "\n",
    "sc_model_y2 = StandardScaler()\n",
    "sc_model_y2.fit(t)\n",
    "sc_y = sc_model_y2.transform(t)\n",
    "model = LinearRegression()\n",
    "model.fit(sc_x, sc_y)"
   ]
  },
  {
   "cell_type": "code",
   "execution_count": 38,
   "id": "088bc28d-92a6-4e44-ad6f-14fdebc62bb5",
   "metadata": {},
   "outputs": [],
   "source": [
    "test2 = test.fillna(train_val.mean())\n",
    "x_test = test2.loc[:, ['RM','LSTAT','PTRATIO']]\n",
    "y_test = test2[['PRICE']]\n",
    "\n",
    "x_test['RM2'] = x_test['RM'] ** 2\n",
    "x_test['LSTAT2'] = x_test['LSTAT'] **2\n",
    "x_test['PTRATIO2'] = x_test['PTRATIO'] **2\n",
    "x_test['RM * LSTAT'] = x_test['RM'] * x_test['LSTAT']\n",
    "\n",
    "sc_x_test = sc_model_x2.transform(x_test)\n",
    "sc_y_test = sc_model_y2.transform(y_test)"
   ]
  },
  {
   "cell_type": "code",
   "execution_count": 39,
   "id": "3a7ba7b7-452d-46a3-ac9c-6adf5913e47b",
   "metadata": {},
   "outputs": [
    {
     "data": {
      "text/plain": [
       "0.764924935366907"
      ]
     },
     "execution_count": 39,
     "metadata": {},
     "output_type": "execute_result"
    }
   ],
   "source": [
    "model.score(sc_x_test, sc_y_test)"
   ]
  },
  {
   "cell_type": "code",
   "execution_count": 40,
   "id": "cb53bcb3-15ab-447b-844b-9ceca58ce5be",
   "metadata": {},
   "outputs": [],
   "source": [
    "import pickle\n",
    "with open('boston.pkl', 'wb') as f:\n",
    "    pickle.dump(model, f)\n",
    "with open('boston_scx.pkl', 'wb') as f:\n",
    "    pickle.dump(sc_model_x2, f)\n",
    "with open('boston_scy.pkl','wb') as f:\n",
    "    pickle.dump(sc_model_y2, f)"
   ]
  },
  {
   "cell_type": "code",
   "execution_count": 1,
   "id": "ac0696a1-e007-4193-80d4-01a469af06ee",
   "metadata": {},
   "outputs": [
    {
     "name": "stdout",
     "output_type": "stream",
     "text": [
      "usage: git [--version] [--help] [-C <path>] [-c <name>=<value>]\n",
      "           [--exec-path[=<path>]] [--html-path] [--man-path] [--info-path]\n",
      "           [-p | --paginate | -P | --no-pager] [--no-replace-objects] [--bare]\n",
      "           [--git-dir=<path>] [--work-tree=<path>] [--namespace=<name>]\n",
      "           <command> [<args>]\n",
      "\n",
      "These are common Git commands used in various situations:\n",
      "\n",
      "start a working area (see also: git help tutorial)\n",
      "   clone             Clone a repository into a new directory\n",
      "   init              Create an empty Git repository or reinitialize an existing one\n",
      "\n",
      "work on the current change (see also: git help everyday)\n",
      "   add               Add file contents to the index\n",
      "   mv                Move or rename a file, a directory, or a symlink\n",
      "   restore           Restore working tree files\n",
      "   rm                Remove files from the working tree and from the index\n",
      "   sparse-checkout   Initialize and modify the sparse-checkout\n",
      "\n",
      "examine the history and state (see also: git help revisions)\n",
      "   bisect            Use binary search to find the commit that introduced a bug\n",
      "   diff              Show changes between commits, commit and working tree, etc\n",
      "   grep              Print lines matching a pattern\n",
      "   log               Show commit logs\n",
      "   show              Show various types of objects\n",
      "   status            Show the working tree status\n",
      "\n",
      "grow, mark and tweak your common history\n",
      "   branch            List, create, or delete branches\n",
      "   commit            Record changes to the repository\n",
      "   merge             Join two or more development histories together\n",
      "   rebase            Reapply commits on top of another base tip\n",
      "   reset             Reset current HEAD to the specified state\n",
      "   switch            Switch branches\n",
      "   tag               Create, list, delete or verify a tag object signed with GPG\n",
      "\n",
      "collaborate (see also: git help workflows)\n",
      "   fetch             Download objects and refs from another repository\n",
      "   pull              Fetch from and integrate with another repository or a local branch\n",
      "   push              Update remote refs along with associated objects\n",
      "\n",
      "'git help -a' and 'git help -g' list available subcommands and some\n",
      "concept guides. See 'git help <command>' or 'git help <concept>'\n",
      "to read about a specific subcommand or concept.\n",
      "See 'git help git' for an overview of the system.\n"
     ]
    }
   ],
   "source": [
    "!git init"
   ]
  },
  {
   "cell_type": "code",
   "execution_count": null,
   "id": "2fa3545e-2f5b-49ef-8bd3-ebe773a93d97",
   "metadata": {},
   "outputs": [],
   "source": []
  }
 ],
 "metadata": {
  "kernelspec": {
   "display_name": "Python 3",
   "language": "python",
   "name": "python3"
  },
  "language_info": {
   "codemirror_mode": {
    "name": "ipython",
    "version": 3
   },
   "file_extension": ".py",
   "mimetype": "text/x-python",
   "name": "python",
   "nbconvert_exporter": "python",
   "pygments_lexer": "ipython3",
   "version": "3.8.8"
  }
 },
 "nbformat": 4,
 "nbformat_minor": 5
}
