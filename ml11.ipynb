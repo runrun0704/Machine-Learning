{
 "cells": [
  {
   "cell_type": "code",
   "execution_count": 3,
   "id": "7afdc5c6-0ee7-4bb9-846e-5b8b99b1c6b9",
   "metadata": {},
   "outputs": [],
   "source": [
    "import pandas as pd\n",
    "\n",
    "from sklearn.model_selection import train_test_split\n",
    "%matplotlib inline\n",
    "from sklearn.preprocessing import StandardScaler"
   ]
  },
  {
   "cell_type": "code",
   "execution_count": 4,
   "id": "398201e6-7c63-4c37-8db9-b6559119d54e",
   "metadata": {},
   "outputs": [],
   "source": [
    "df  = pd.read_csv('Boston.csv')\n",
    "df = df.fillna(df.mean())\n",
    "df = df.drop([76], axis = 0)\n",
    "\n",
    "t = df[['PRICE']]\n",
    "x = df.loc[:, ['RM', 'PTRATIO','LSTAT']]\n",
    "\n",
    "sc = StandardScaler()\n",
    "sc_x = sc.fit_transform(x)\n",
    "sc2 = StandardScaler()\n",
    "sc_t = sc2.fit_transform(t)"
   ]
  },
  {
   "cell_type": "code",
   "execution_count": 9,
   "id": "8713d774-7f63-47f1-9c65-2daf27bdf2ef",
   "metadata": {},
   "outputs": [
    {
     "data": {
      "text/html": [
       "<div>\n",
       "<style scoped>\n",
       "    .dataframe tbody tr th:only-of-type {\n",
       "        vertical-align: middle;\n",
       "    }\n",
       "\n",
       "    .dataframe tbody tr th {\n",
       "        vertical-align: top;\n",
       "    }\n",
       "\n",
       "    .dataframe thead th {\n",
       "        text-align: right;\n",
       "    }\n",
       "</style>\n",
       "<table border=\"1\" class=\"dataframe\">\n",
       "  <thead>\n",
       "    <tr style=\"text-align: right;\">\n",
       "      <th></th>\n",
       "      <th>CRIME</th>\n",
       "      <th>ZN</th>\n",
       "      <th>INDUS</th>\n",
       "      <th>CHAS</th>\n",
       "      <th>NOX</th>\n",
       "      <th>RM</th>\n",
       "      <th>AGE</th>\n",
       "      <th>DIS</th>\n",
       "      <th>RAD</th>\n",
       "      <th>TAX</th>\n",
       "      <th>PTRATIO</th>\n",
       "      <th>B</th>\n",
       "      <th>LSTAT</th>\n",
       "      <th>PRICE</th>\n",
       "    </tr>\n",
       "  </thead>\n",
       "  <tbody>\n",
       "    <tr>\n",
       "      <th>0</th>\n",
       "      <td>high</td>\n",
       "      <td>0.0</td>\n",
       "      <td>18.10</td>\n",
       "      <td>0</td>\n",
       "      <td>0.718</td>\n",
       "      <td>3.561</td>\n",
       "      <td>87.9</td>\n",
       "      <td>1.6132</td>\n",
       "      <td>24.0</td>\n",
       "      <td>666</td>\n",
       "      <td>20.2</td>\n",
       "      <td>354.70</td>\n",
       "      <td>7.12</td>\n",
       "      <td>27.5</td>\n",
       "    </tr>\n",
       "    <tr>\n",
       "      <th>1</th>\n",
       "      <td>low</td>\n",
       "      <td>0.0</td>\n",
       "      <td>8.14</td>\n",
       "      <td>0</td>\n",
       "      <td>0.538</td>\n",
       "      <td>5.950</td>\n",
       "      <td>82.0</td>\n",
       "      <td>3.9900</td>\n",
       "      <td>4.0</td>\n",
       "      <td>307</td>\n",
       "      <td>21.0</td>\n",
       "      <td>232.60</td>\n",
       "      <td>27.71</td>\n",
       "      <td>13.2</td>\n",
       "    </tr>\n",
       "    <tr>\n",
       "      <th>2</th>\n",
       "      <td>very_low</td>\n",
       "      <td>82.5</td>\n",
       "      <td>2.03</td>\n",
       "      <td>0</td>\n",
       "      <td>0.415</td>\n",
       "      <td>6.162</td>\n",
       "      <td>38.4</td>\n",
       "      <td>6.2700</td>\n",
       "      <td>2.0</td>\n",
       "      <td>348</td>\n",
       "      <td>14.7</td>\n",
       "      <td>393.77</td>\n",
       "      <td>7.43</td>\n",
       "      <td>24.1</td>\n",
       "    </tr>\n",
       "    <tr>\n",
       "      <th>3</th>\n",
       "      <td>low</td>\n",
       "      <td>0.0</td>\n",
       "      <td>21.89</td>\n",
       "      <td>0</td>\n",
       "      <td>0.624</td>\n",
       "      <td>6.151</td>\n",
       "      <td>97.9</td>\n",
       "      <td>1.6687</td>\n",
       "      <td>4.0</td>\n",
       "      <td>437</td>\n",
       "      <td>21.2</td>\n",
       "      <td>396.90</td>\n",
       "      <td>18.46</td>\n",
       "      <td>17.8</td>\n",
       "    </tr>\n",
       "    <tr>\n",
       "      <th>4</th>\n",
       "      <td>high</td>\n",
       "      <td>0.0</td>\n",
       "      <td>18.10</td>\n",
       "      <td>0</td>\n",
       "      <td>0.614</td>\n",
       "      <td>6.980</td>\n",
       "      <td>67.6</td>\n",
       "      <td>2.5329</td>\n",
       "      <td>24.0</td>\n",
       "      <td>666</td>\n",
       "      <td>20.2</td>\n",
       "      <td>374.68</td>\n",
       "      <td>11.66</td>\n",
       "      <td>29.8</td>\n",
       "    </tr>\n",
       "    <tr>\n",
       "      <th>...</th>\n",
       "      <td>...</td>\n",
       "      <td>...</td>\n",
       "      <td>...</td>\n",
       "      <td>...</td>\n",
       "      <td>...</td>\n",
       "      <td>...</td>\n",
       "      <td>...</td>\n",
       "      <td>...</td>\n",
       "      <td>...</td>\n",
       "      <td>...</td>\n",
       "      <td>...</td>\n",
       "      <td>...</td>\n",
       "      <td>...</td>\n",
       "      <td>...</td>\n",
       "    </tr>\n",
       "    <tr>\n",
       "      <th>95</th>\n",
       "      <td>high</td>\n",
       "      <td>0.0</td>\n",
       "      <td>18.10</td>\n",
       "      <td>0</td>\n",
       "      <td>0.740</td>\n",
       "      <td>6.219</td>\n",
       "      <td>100.0</td>\n",
       "      <td>2.0048</td>\n",
       "      <td>24.0</td>\n",
       "      <td>666</td>\n",
       "      <td>20.2</td>\n",
       "      <td>395.69</td>\n",
       "      <td>16.59</td>\n",
       "      <td>18.4</td>\n",
       "    </tr>\n",
       "    <tr>\n",
       "      <th>96</th>\n",
       "      <td>high</td>\n",
       "      <td>0.0</td>\n",
       "      <td>18.10</td>\n",
       "      <td>0</td>\n",
       "      <td>0.655</td>\n",
       "      <td>5.759</td>\n",
       "      <td>48.2</td>\n",
       "      <td>3.0665</td>\n",
       "      <td>24.0</td>\n",
       "      <td>666</td>\n",
       "      <td>20.2</td>\n",
       "      <td>334.40</td>\n",
       "      <td>14.13</td>\n",
       "      <td>19.9</td>\n",
       "    </tr>\n",
       "    <tr>\n",
       "      <th>97</th>\n",
       "      <td>high</td>\n",
       "      <td>0.0</td>\n",
       "      <td>18.10</td>\n",
       "      <td>0</td>\n",
       "      <td>0.671</td>\n",
       "      <td>6.380</td>\n",
       "      <td>96.2</td>\n",
       "      <td>1.3861</td>\n",
       "      <td>24.0</td>\n",
       "      <td>666</td>\n",
       "      <td>20.2</td>\n",
       "      <td>396.90</td>\n",
       "      <td>23.69</td>\n",
       "      <td>13.1</td>\n",
       "    </tr>\n",
       "    <tr>\n",
       "      <th>98</th>\n",
       "      <td>low</td>\n",
       "      <td>0.0</td>\n",
       "      <td>9.90</td>\n",
       "      <td>0</td>\n",
       "      <td>0.544</td>\n",
       "      <td>5.914</td>\n",
       "      <td>83.2</td>\n",
       "      <td>3.9986</td>\n",
       "      <td>4.0</td>\n",
       "      <td>304</td>\n",
       "      <td>18.4</td>\n",
       "      <td>390.70</td>\n",
       "      <td>18.33</td>\n",
       "      <td>17.8</td>\n",
       "    </tr>\n",
       "    <tr>\n",
       "      <th>99</th>\n",
       "      <td>high</td>\n",
       "      <td>0.0</td>\n",
       "      <td>18.10</td>\n",
       "      <td>0</td>\n",
       "      <td>0.693</td>\n",
       "      <td>5.453</td>\n",
       "      <td>100.0</td>\n",
       "      <td>1.4896</td>\n",
       "      <td>24.0</td>\n",
       "      <td>666</td>\n",
       "      <td>20.2</td>\n",
       "      <td>396.90</td>\n",
       "      <td>30.59</td>\n",
       "      <td>5.0</td>\n",
       "    </tr>\n",
       "  </tbody>\n",
       "</table>\n",
       "<p>99 rows × 14 columns</p>\n",
       "</div>"
      ],
      "text/plain": [
       "       CRIME    ZN  INDUS  CHAS    NOX     RM    AGE     DIS   RAD  TAX  \\\n",
       "0       high   0.0  18.10     0  0.718  3.561   87.9  1.6132  24.0  666   \n",
       "1        low   0.0   8.14     0  0.538  5.950   82.0  3.9900   4.0  307   \n",
       "2   very_low  82.5   2.03     0  0.415  6.162   38.4  6.2700   2.0  348   \n",
       "3        low   0.0  21.89     0  0.624  6.151   97.9  1.6687   4.0  437   \n",
       "4       high   0.0  18.10     0  0.614  6.980   67.6  2.5329  24.0  666   \n",
       "..       ...   ...    ...   ...    ...    ...    ...     ...   ...  ...   \n",
       "95      high   0.0  18.10     0  0.740  6.219  100.0  2.0048  24.0  666   \n",
       "96      high   0.0  18.10     0  0.655  5.759   48.2  3.0665  24.0  666   \n",
       "97      high   0.0  18.10     0  0.671  6.380   96.2  1.3861  24.0  666   \n",
       "98       low   0.0   9.90     0  0.544  5.914   83.2  3.9986   4.0  304   \n",
       "99      high   0.0  18.10     0  0.693  5.453  100.0  1.4896  24.0  666   \n",
       "\n",
       "    PTRATIO       B  LSTAT  PRICE  \n",
       "0      20.2  354.70   7.12   27.5  \n",
       "1      21.0  232.60  27.71   13.2  \n",
       "2      14.7  393.77   7.43   24.1  \n",
       "3      21.2  396.90  18.46   17.8  \n",
       "4      20.2  374.68  11.66   29.8  \n",
       "..      ...     ...    ...    ...  \n",
       "95     20.2  395.69  16.59   18.4  \n",
       "96     20.2  334.40  14.13   19.9  \n",
       "97     20.2  396.90  23.69   13.1  \n",
       "98     18.4  390.70  18.33   17.8  \n",
       "99     20.2  396.90  30.59    5.0  \n",
       "\n",
       "[99 rows x 14 columns]"
      ]
     },
     "execution_count": 9,
     "metadata": {},
     "output_type": "execute_result"
    }
   ],
   "source": [
    "df"
   ]
  },
  {
   "cell_type": "code",
   "execution_count": 10,
   "id": "3c9e18e7-cbef-45be-a44d-5b7d049b9fb9",
   "metadata": {},
   "outputs": [
    {
     "data": {
      "text/plain": [
       "array([[-3.54780839e+00,  8.78527227e-01, -7.07358188e-01],\n",
       "       [-3.94309081e-01,  1.29195180e+00,  2.33138998e+00],\n",
       "       [-1.14467367e-01, -1.96376674e+00, -6.61607245e-01],\n",
       "       [-1.28987456e-01,  1.39530795e+00,  9.66240850e-01],\n",
       "       [ 9.65299243e-01,  8.78527227e-01, -3.73282382e-02],\n",
       "       [-2.14787982e-01, -5.68458794e-01, -1.52443516e-01],\n",
       "       [ 2.49854863e-01,  3.10068433e-01, -1.22832861e+00],\n",
       "       [-3.09828564e-01,  1.55034217e-01, -2.04097807e-01],\n",
       "       [-1.79147764e-01, -5.16780722e-02,  1.20586310e-01],\n",
       "       [-4.53709445e-01,  8.78527227e-01, -6.83208130e-02],\n",
       "       [-3.73188952e-01,  3.61746505e-01, -2.63131283e-01],\n",
       "       [ 3.24099318e+00, -2.84229397e+00, -1.00252557e+00],\n",
       "       [-3.16428604e-01, -1.70537638e+00,  2.00281502e-01],\n",
       "       [ 7.62017999e-01, -4.65102650e-01, -1.14420591e+00],\n",
       "       [-2.99868503e-02,  3.10068433e-01, -2.60179609e-01],\n",
       "       [-2.18748006e-01,  5.68458794e-01,  1.29441331e-01],\n",
       "       [ 2.28134730e-02, -5.16780722e-02, -5.92242911e-01],\n",
       "       [ 1.20686072e+00, -5.68458794e-01, -8.19521792e-01],\n",
       "       [ 2.80215049e-01,  8.78527227e-01,  9.05731538e-01],\n",
       "       [-2.33268095e-01,  1.29195180e+00,  1.66337253e-01],\n",
       "       [ 2.11766630e+00, -1.96376674e+00, -1.19586020e+00],\n",
       "       [-4.97869715e-02, -3.10068433e-01, -6.60131408e-01],\n",
       "       [-8.45751845e-01,  8.78527227e-01,  3.20360958e-02],\n",
       "       [ 3.64695566e-01,  8.78527227e-01,  9.17538233e-01],\n",
       "       [ 2.73615009e-01,  6.20136866e-01, -7.64915827e-01],\n",
       "       [-5.88350269e-01,  8.78527227e-01,  4.02471156e-01],\n",
       "       [ 3.20535296e-02,  1.03356144e-01, -7.57536643e-01],\n",
       "       [ 3.81855671e-01,  5.16780722e-02, -6.17332138e-01],\n",
       "       [-1.03055298e+00, -1.96376674e+00,  2.14100702e+00],\n",
       "       [-4.77469590e-01,  8.78527227e-01,  6.54839265e-01],\n",
       "       [ 2.66282964e+00, -5.68458794e-01, -1.14715758e+00],\n",
       "       [-8.64231958e-01,  2.06712289e-01,  1.73716438e-01],\n",
       "       [ 3.92415736e-01, -9.81883372e-01, -9.71532993e-01],\n",
       "       [ 3.91095728e-01,  8.78527227e-01, -9.77436340e-01],\n",
       "       [-9.61912556e-01,  8.78527227e-01,  1.86650136e+00],\n",
       "       [ 2.00150559e+00, -3.61746505e-01, -6.42421365e-01],\n",
       "       [-5.24989881e-01,  1.24027373e+00,  6.72549308e-01],\n",
       "       [-1.26347440e-01, -3.61746505e-01,  1.82571459e-01],\n",
       "       [ 5.03296415e-01,  3.61746505e-01, -1.06451072e+00],\n",
       "       [-8.53671893e-01, -3.10068433e-01,  6.32701712e-01],\n",
       "       [ 1.61210320e+00, -2.84229397e+00, -1.29178960e+00],\n",
       "       [-2.01587901e-01,  1.29195180e+00, -2.43945403e-01],\n",
       "       [-5.17069832e-01,  1.39530795e+00,  1.38833020e+00],\n",
       "       [-1.85747804e-01,  3.10068433e-01, -4.06287462e-01],\n",
       "       [-5.26309889e-01,  3.61746505e-01, -4.63845101e-01],\n",
       "       [-3.77148976e-01, -8.78527227e-01,  2.26846566e-01],\n",
       "       [-8.39151804e-01,  3.10068433e-01,  2.26497732e+00],\n",
       "       [ 4.96696374e-01, -2.58390361e-01, -7.76722523e-01],\n",
       "       [ 2.07410603e+00, -2.58390361e-01, -1.23128029e+00],\n",
       "       [-2.88708434e-01, -3.10068433e-01,  1.01641930e+00],\n",
       "       [ 1.66694354e-01,  5.16780722e-02, -3.73819050e-01],\n",
       "       [-3.74508960e-01,  1.29195180e+00,  2.82928368e-01],\n",
       "       [ 2.20814685e-01, -9.81883372e-01, -4.23997505e-01],\n",
       "       [ 7.98978225e-01, -4.65102650e-01, -1.31835466e+00],\n",
       "       [ 1.75934410e-01, -5.16780722e-02, -2.29187035e-01],\n",
       "       [ 2.14214645e-01,  8.78527227e-01,  4.58552958e-01],\n",
       "       [ 2.04974588e-01,  8.78527227e-01,  1.23927068e+00],\n",
       "       [-3.00588507e-01, -3.61746505e-01, -2.38042056e-01],\n",
       "       [-7.16391053e-01, -8.26849155e-01,  7.63112027e-02],\n",
       "       [-3.53388830e-01, -5.68458794e-01, -3.88040751e-02],\n",
       "       [-6.70190770e-01,  6.20136866e-01,  1.82571459e-01],\n",
       "       [ 4.17495889e-01, -9.81883372e-01, -3.54633171e-01],\n",
       "       [ 9.34939058e-01,  3.10068433e-01, -1.23718363e+00],\n",
       "       [-3.08508556e-01,  0.00000000e+00,  1.39772189e-01],\n",
       "       [ 3.73335619e-04, -1.55034217e-01, -1.95242786e-01],\n",
       "       [-1.08467331e+00,  8.78527227e-01,  9.19014070e-01],\n",
       "       [ 2.05034589e+00, -1.96376674e+00, -1.47479337e+00],\n",
       "       [ 8.08938286e-02,  8.78527227e-01, -7.61964154e-01],\n",
       "       [ 2.27414726e-01, -3.61746505e-01, -4.09239136e-01],\n",
       "       [-4.93309687e-01, -1.96376674e+00,  3.71478582e-01],\n",
       "       [-1.10447343e+00,  5.16780722e-02,  2.60294397e+00],\n",
       "       [-1.85747804e-01, -1.08523952e+00, -7.88529218e-01],\n",
       "       [-1.69907707e-01,  1.29195180e+00, -4.18094157e-01],\n",
       "       [ 8.25378387e-01, -4.65102650e-01, -1.07779325e+00],\n",
       "       [-4.86709647e-01, -1.96376674e+00,  1.72777269e-02],\n",
       "       [ 1.11254014e-01, -8.26849155e-01, -6.74889777e-01],\n",
       "       [-2.88708434e-01,  1.29195180e+00, -5.95194584e-01],\n",
       "       [-5.38189962e-01,  3.61746505e-01, -7.42241606e-02],\n",
       "       [-1.24703430e+00,  8.78527227e-01,  2.17347543e+00],\n",
       "       [-5.24269877e-02, -9.81883372e-01, -7.04406515e-01],\n",
       "       [-5.24269877e-02,  8.78527227e-01,  1.92902317e-01],\n",
       "       [ 7.03337640e-02,  2.58390361e-01, -7.66391664e-01],\n",
       "       [-1.11503349e+00,  5.16780722e-02,  1.78090282e+00],\n",
       "       [-8.86672095e-03,  8.78527227e-01, -1.73105233e-01],\n",
       "       [ 1.23590090e+00, -3.61746505e-01, -1.16339179e+00],\n",
       "       [ 1.00093946e+00, -3.61746505e-01, -9.46443765e-01],\n",
       "       [-7.73151400e-01,  1.80873253e+00, -5.70105357e-01],\n",
       "       [-2.78616372e+00,  8.78527227e-01,  1.68644925e+00],\n",
       "       [ 2.08862612e+00, -3.61746505e-01, -1.10140664e+00],\n",
       "       [-2.74188345e-01,  5.68458794e-01, -6.21759649e-01],\n",
       "       [-1.11503349e+00, -1.96376674e+00,  2.01757339e-01],\n",
       "       [ 2.63774948e+00, -5.68458794e-01, -1.17519848e+00],\n",
       "       [-1.40279526e+00, -1.96376674e+00,  2.42141603e+00],\n",
       "       [ 1.85174467e-01,  0.00000000e+00, -3.38398965e-01],\n",
       "       [-3.92269068e-02,  8.78527227e-01,  6.90259351e-01],\n",
       "       [-6.46430624e-01,  8.78527227e-01,  3.27203475e-01],\n",
       "       [ 1.73294394e-01,  8.78527227e-01,  1.73810355e+00],\n",
       "       [-4.41829372e-01, -5.16780722e-02,  9.47054971e-01],\n",
       "       [-1.05035310e+00,  8.78527227e-01,  2.75643100e+00]])"
      ]
     },
     "execution_count": 10,
     "metadata": {},
     "output_type": "execute_result"
    }
   ],
   "source": [
    "sc_x"
   ]
  },
  {
   "cell_type": "code",
   "execution_count": 13,
   "id": "6534f886-6e25-4e3d-a48e-1ccc32aef38a",
   "metadata": {},
   "outputs": [
    {
     "data": {
      "text/plain": [
       "(99, 9)"
      ]
     },
     "execution_count": 13,
     "metadata": {},
     "output_type": "execute_result"
    }
   ],
   "source": [
    "from sklearn.preprocessing import PolynomialFeatures\n",
    "\n",
    "pf = PolynomialFeatures(degree = 2, include_bias = False)\n",
    "pf_x = pf.fit_transform(sc_x)\n",
    "pf_x.shape"
   ]
  },
  {
   "cell_type": "code",
   "execution_count": 14,
   "id": "d2ab418e-a7aa-4147-bd6c-f00ca3eebaf2",
   "metadata": {},
   "outputs": [
    {
     "data": {
      "text/plain": [
       "['x0', 'x1', 'x2', 'x0^2', 'x0 x1', 'x0 x2', 'x1^2', 'x1 x2', 'x2^2']"
      ]
     },
     "execution_count": 14,
     "metadata": {},
     "output_type": "execute_result"
    }
   ],
   "source": [
    "pf.get_feature_names()"
   ]
  },
  {
   "cell_type": "code",
   "execution_count": 15,
   "id": "2b4e1b97-80c5-477b-8aa9-8445699497f0",
   "metadata": {},
   "outputs": [
    {
     "name": "stdout",
     "output_type": "stream",
     "text": [
      "0.8710525685992707\n"
     ]
    },
    {
     "data": {
      "text/plain": [
       "0.7854929935582585"
      ]
     },
     "execution_count": 15,
     "metadata": {},
     "output_type": "execute_result"
    }
   ],
   "source": [
    "from sklearn.linear_model import LinearRegression\n",
    "\n",
    "x_train, x_test, y_train, y_test = train_test_split(pf_x, sc_t, test_size = 0.3, random_state = 0)\n",
    "\n",
    "model = LinearRegression()\n",
    "model.fit(x_train, y_train)\n",
    "\n",
    "print(model.score(x_train, y_train))\n",
    "model.score(x_test, y_test)"
   ]
  },
  {
   "cell_type": "code",
   "execution_count": 16,
   "id": "96603ed7-a2a1-4768-bdd8-d54f6306587c",
   "metadata": {},
   "outputs": [
    {
     "name": "stdout",
     "output_type": "stream",
     "text": [
      "0.8607320524729507\n",
      "0.8458730019328176\n"
     ]
    }
   ],
   "source": [
    "from sklearn.linear_model import Ridge\n",
    "\n",
    "ridgeModel = Ridge(alpha = 10)\n",
    "ridgeModel.fit(x_train, y_train)\n",
    "print(ridgeModel.score(x_train, y_train))\n",
    "print(ridgeModel.score(x_test, y_test))"
   ]
  },
  {
   "cell_type": "code",
   "execution_count": 17,
   "id": "104e7740-3569-465f-8bd6-58b68b9d13e3",
   "metadata": {},
   "outputs": [
    {
     "name": "stdout",
     "output_type": "stream",
     "text": [
      "0.8528754801497631 17.62\n"
     ]
    }
   ],
   "source": [
    "maxScore = 0\n",
    "mazIndex = 0\n",
    "\n",
    "for i in range(1, 2001):\n",
    "    num = i/100\n",
    "    ridgeModel  = Ridge(random_state = 0, alpha = num)\n",
    "    ridgeModel.fit(x_train, y_train)\n",
    "    \n",
    "    result = ridgeModel.score(x_test, y_test)\n",
    "    if result > maxScore:\n",
    "        maxScore = result\n",
    "        maxIndex = num\n",
    "        \n",
    "print(maxScore, maxIndex)        "
   ]
  },
  {
   "cell_type": "code",
   "execution_count": 18,
   "id": "c35861a8-3a9c-40ef-bcd0-9e5ee59c0c82",
   "metadata": {},
   "outputs": [
    {
     "name": "stdout",
     "output_type": "stream",
     "text": [
      "1.5566745983288373\n",
      "1.2152800824026808\n"
     ]
    }
   ],
   "source": [
    "print(sum(abs(model.coef_)[0]))\n",
    "\n",
    "print(sum(abs(ridgeModel.coef_)[0]))"
   ]
  },
  {
   "cell_type": "code",
   "execution_count": 20,
   "id": "2beaa3b3-9d93-42e7-9910-add619cc900d",
   "metadata": {},
   "outputs": [
    {
     "name": "stdout",
     "output_type": "stream",
     "text": [
      "0.8224680202036665\n",
      "0.858846785318774\n"
     ]
    }
   ],
   "source": [
    "from sklearn.linear_model import Lasso\n",
    "\n",
    "x_train, x_test, y_train, _y_test = train_test_split(pf_x, sc_t, test_size = 0.3, random_state = 0)\n",
    "\n",
    "model = Lasso(alpha = 0.1)\n",
    "model.fit(x_train, y_train)\n",
    "\n",
    "print(model.score(x_train, y_train))\n",
    "print(model.score(x_test, y_test))"
   ]
  },
  {
   "cell_type": "code",
   "execution_count": 21,
   "id": "75006867-78f0-4b33-aaaa-babb603f5e95",
   "metadata": {},
   "outputs": [
    {
     "data": {
      "text/plain": [
       "x0       0.409426\n",
       "x1      -0.083104\n",
       "x2      -0.287714\n",
       "x0^2     0.150001\n",
       "x0 x1   -0.000000\n",
       "x0 x2   -0.037450\n",
       "x1^2    -0.000000\n",
       "x1 x2    0.000000\n",
       "x2^2     0.000000\n",
       "dtype: float64"
      ]
     },
     "execution_count": 21,
     "metadata": {},
     "output_type": "execute_result"
    }
   ],
   "source": [
    "weight = model.coef_\n",
    "\n",
    "pd.Series(weight, index = pf.get_feature_names())"
   ]
  },
  {
   "cell_type": "code",
   "execution_count": 39,
   "id": "423a383b-463c-418d-91f5-67f09acb5160",
   "metadata": {},
   "outputs": [],
   "source": [
    "import pandas as pd\n",
    "from sklearn.model_selection import train_test_split\n",
    "\n",
    "df = pd.read_csv('Boston.csv')\n",
    "df = df.fillna(df.mean())\n",
    "x = df.loc[:, 'ZN':'LSTAT']\n",
    "t = df['PRICE']\n",
    "\n",
    "x_train, x_test,y_train,  y_test = train_test_split(x, t, test_size = 0.3, random_state = 0)\n"
   ]
  },
  {
   "cell_type": "code",
   "execution_count": 40,
   "id": "1c42e9ce-aa66-45f2-ace0-21aaab4819c4",
   "metadata": {},
   "outputs": [
    {
     "data": {
      "text/html": [
       "<div>\n",
       "<style scoped>\n",
       "    .dataframe tbody tr th:only-of-type {\n",
       "        vertical-align: middle;\n",
       "    }\n",
       "\n",
       "    .dataframe tbody tr th {\n",
       "        vertical-align: top;\n",
       "    }\n",
       "\n",
       "    .dataframe thead th {\n",
       "        text-align: right;\n",
       "    }\n",
       "</style>\n",
       "<table border=\"1\" class=\"dataframe\">\n",
       "  <thead>\n",
       "    <tr style=\"text-align: right;\">\n",
       "      <th></th>\n",
       "      <th>CRIME</th>\n",
       "      <th>ZN</th>\n",
       "      <th>INDUS</th>\n",
       "      <th>CHAS</th>\n",
       "      <th>NOX</th>\n",
       "      <th>RM</th>\n",
       "      <th>AGE</th>\n",
       "      <th>DIS</th>\n",
       "      <th>RAD</th>\n",
       "      <th>TAX</th>\n",
       "      <th>PTRATIO</th>\n",
       "      <th>B</th>\n",
       "      <th>LSTAT</th>\n",
       "      <th>PRICE</th>\n",
       "    </tr>\n",
       "  </thead>\n",
       "  <tbody>\n",
       "    <tr>\n",
       "      <th>0</th>\n",
       "      <td>high</td>\n",
       "      <td>0.0</td>\n",
       "      <td>18.10</td>\n",
       "      <td>0</td>\n",
       "      <td>0.718</td>\n",
       "      <td>3.561</td>\n",
       "      <td>87.9</td>\n",
       "      <td>1.6132</td>\n",
       "      <td>24.0</td>\n",
       "      <td>666</td>\n",
       "      <td>20.2</td>\n",
       "      <td>354.70</td>\n",
       "      <td>7.12</td>\n",
       "      <td>27.5</td>\n",
       "    </tr>\n",
       "    <tr>\n",
       "      <th>1</th>\n",
       "      <td>low</td>\n",
       "      <td>0.0</td>\n",
       "      <td>8.14</td>\n",
       "      <td>0</td>\n",
       "      <td>0.538</td>\n",
       "      <td>5.950</td>\n",
       "      <td>82.0</td>\n",
       "      <td>3.9900</td>\n",
       "      <td>4.0</td>\n",
       "      <td>307</td>\n",
       "      <td>21.0</td>\n",
       "      <td>232.60</td>\n",
       "      <td>27.71</td>\n",
       "      <td>13.2</td>\n",
       "    </tr>\n",
       "    <tr>\n",
       "      <th>2</th>\n",
       "      <td>very_low</td>\n",
       "      <td>82.5</td>\n",
       "      <td>2.03</td>\n",
       "      <td>0</td>\n",
       "      <td>0.415</td>\n",
       "      <td>6.162</td>\n",
       "      <td>38.4</td>\n",
       "      <td>6.2700</td>\n",
       "      <td>2.0</td>\n",
       "      <td>348</td>\n",
       "      <td>14.7</td>\n",
       "      <td>393.77</td>\n",
       "      <td>7.43</td>\n",
       "      <td>24.1</td>\n",
       "    </tr>\n",
       "    <tr>\n",
       "      <th>3</th>\n",
       "      <td>low</td>\n",
       "      <td>0.0</td>\n",
       "      <td>21.89</td>\n",
       "      <td>0</td>\n",
       "      <td>0.624</td>\n",
       "      <td>6.151</td>\n",
       "      <td>97.9</td>\n",
       "      <td>1.6687</td>\n",
       "      <td>4.0</td>\n",
       "      <td>437</td>\n",
       "      <td>21.2</td>\n",
       "      <td>396.90</td>\n",
       "      <td>18.46</td>\n",
       "      <td>17.8</td>\n",
       "    </tr>\n",
       "    <tr>\n",
       "      <th>4</th>\n",
       "      <td>high</td>\n",
       "      <td>0.0</td>\n",
       "      <td>18.10</td>\n",
       "      <td>0</td>\n",
       "      <td>0.614</td>\n",
       "      <td>6.980</td>\n",
       "      <td>67.6</td>\n",
       "      <td>2.5329</td>\n",
       "      <td>24.0</td>\n",
       "      <td>666</td>\n",
       "      <td>20.2</td>\n",
       "      <td>374.68</td>\n",
       "      <td>11.66</td>\n",
       "      <td>29.8</td>\n",
       "    </tr>\n",
       "    <tr>\n",
       "      <th>...</th>\n",
       "      <td>...</td>\n",
       "      <td>...</td>\n",
       "      <td>...</td>\n",
       "      <td>...</td>\n",
       "      <td>...</td>\n",
       "      <td>...</td>\n",
       "      <td>...</td>\n",
       "      <td>...</td>\n",
       "      <td>...</td>\n",
       "      <td>...</td>\n",
       "      <td>...</td>\n",
       "      <td>...</td>\n",
       "      <td>...</td>\n",
       "      <td>...</td>\n",
       "    </tr>\n",
       "    <tr>\n",
       "      <th>95</th>\n",
       "      <td>high</td>\n",
       "      <td>0.0</td>\n",
       "      <td>18.10</td>\n",
       "      <td>0</td>\n",
       "      <td>0.740</td>\n",
       "      <td>6.219</td>\n",
       "      <td>100.0</td>\n",
       "      <td>2.0048</td>\n",
       "      <td>24.0</td>\n",
       "      <td>666</td>\n",
       "      <td>20.2</td>\n",
       "      <td>395.69</td>\n",
       "      <td>16.59</td>\n",
       "      <td>18.4</td>\n",
       "    </tr>\n",
       "    <tr>\n",
       "      <th>96</th>\n",
       "      <td>high</td>\n",
       "      <td>0.0</td>\n",
       "      <td>18.10</td>\n",
       "      <td>0</td>\n",
       "      <td>0.655</td>\n",
       "      <td>5.759</td>\n",
       "      <td>48.2</td>\n",
       "      <td>3.0665</td>\n",
       "      <td>24.0</td>\n",
       "      <td>666</td>\n",
       "      <td>20.2</td>\n",
       "      <td>334.40</td>\n",
       "      <td>14.13</td>\n",
       "      <td>19.9</td>\n",
       "    </tr>\n",
       "    <tr>\n",
       "      <th>97</th>\n",
       "      <td>high</td>\n",
       "      <td>0.0</td>\n",
       "      <td>18.10</td>\n",
       "      <td>0</td>\n",
       "      <td>0.671</td>\n",
       "      <td>6.380</td>\n",
       "      <td>96.2</td>\n",
       "      <td>1.3861</td>\n",
       "      <td>24.0</td>\n",
       "      <td>666</td>\n",
       "      <td>20.2</td>\n",
       "      <td>396.90</td>\n",
       "      <td>23.69</td>\n",
       "      <td>13.1</td>\n",
       "    </tr>\n",
       "    <tr>\n",
       "      <th>98</th>\n",
       "      <td>low</td>\n",
       "      <td>0.0</td>\n",
       "      <td>9.90</td>\n",
       "      <td>0</td>\n",
       "      <td>0.544</td>\n",
       "      <td>5.914</td>\n",
       "      <td>83.2</td>\n",
       "      <td>3.9986</td>\n",
       "      <td>4.0</td>\n",
       "      <td>304</td>\n",
       "      <td>18.4</td>\n",
       "      <td>390.70</td>\n",
       "      <td>18.33</td>\n",
       "      <td>17.8</td>\n",
       "    </tr>\n",
       "    <tr>\n",
       "      <th>99</th>\n",
       "      <td>high</td>\n",
       "      <td>0.0</td>\n",
       "      <td>18.10</td>\n",
       "      <td>0</td>\n",
       "      <td>0.693</td>\n",
       "      <td>5.453</td>\n",
       "      <td>100.0</td>\n",
       "      <td>1.4896</td>\n",
       "      <td>24.0</td>\n",
       "      <td>666</td>\n",
       "      <td>20.2</td>\n",
       "      <td>396.90</td>\n",
       "      <td>30.59</td>\n",
       "      <td>5.0</td>\n",
       "    </tr>\n",
       "  </tbody>\n",
       "</table>\n",
       "<p>100 rows × 14 columns</p>\n",
       "</div>"
      ],
      "text/plain": [
       "       CRIME    ZN  INDUS  CHAS    NOX     RM    AGE     DIS   RAD  TAX  \\\n",
       "0       high   0.0  18.10     0  0.718  3.561   87.9  1.6132  24.0  666   \n",
       "1        low   0.0   8.14     0  0.538  5.950   82.0  3.9900   4.0  307   \n",
       "2   very_low  82.5   2.03     0  0.415  6.162   38.4  6.2700   2.0  348   \n",
       "3        low   0.0  21.89     0  0.624  6.151   97.9  1.6687   4.0  437   \n",
       "4       high   0.0  18.10     0  0.614  6.980   67.6  2.5329  24.0  666   \n",
       "..       ...   ...    ...   ...    ...    ...    ...     ...   ...  ...   \n",
       "95      high   0.0  18.10     0  0.740  6.219  100.0  2.0048  24.0  666   \n",
       "96      high   0.0  18.10     0  0.655  5.759   48.2  3.0665  24.0  666   \n",
       "97      high   0.0  18.10     0  0.671  6.380   96.2  1.3861  24.0  666   \n",
       "98       low   0.0   9.90     0  0.544  5.914   83.2  3.9986   4.0  304   \n",
       "99      high   0.0  18.10     0  0.693  5.453  100.0  1.4896  24.0  666   \n",
       "\n",
       "    PTRATIO       B  LSTAT  PRICE  \n",
       "0      20.2  354.70   7.12   27.5  \n",
       "1      21.0  232.60  27.71   13.2  \n",
       "2      14.7  393.77   7.43   24.1  \n",
       "3      21.2  396.90  18.46   17.8  \n",
       "4      20.2  374.68  11.66   29.8  \n",
       "..      ...     ...    ...    ...  \n",
       "95     20.2  395.69  16.59   18.4  \n",
       "96     20.2  334.40  14.13   19.9  \n",
       "97     20.2  396.90  23.69   13.1  \n",
       "98     18.4  390.70  18.33   17.8  \n",
       "99     20.2  396.90  30.59    5.0  \n",
       "\n",
       "[100 rows x 14 columns]"
      ]
     },
     "execution_count": 40,
     "metadata": {},
     "output_type": "execute_result"
    }
   ],
   "source": [
    "df"
   ]
  },
  {
   "cell_type": "code",
   "execution_count": 41,
   "id": "fde6f80e-c8f1-4f9d-a80d-7f334f73ca7a",
   "metadata": {},
   "outputs": [
    {
     "name": "stdout",
     "output_type": "stream",
     "text": [
      "(70, 12)\n"
     ]
    },
    {
     "data": {
      "text/plain": [
       "(70,)"
      ]
     },
     "execution_count": 41,
     "metadata": {},
     "output_type": "execute_result"
    }
   ],
   "source": [
    "print(x_train.shape)\n",
    "y_train.shape"
   ]
  },
  {
   "cell_type": "code",
   "execution_count": 42,
   "id": "f8e279f4-cc92-4399-ba94-aa0668b6fa66",
   "metadata": {},
   "outputs": [
    {
     "data": {
      "text/plain": [
       "0.59433275545417"
      ]
     },
     "execution_count": 42,
     "metadata": {},
     "output_type": "execute_result"
    }
   ],
   "source": [
    "from sklearn.tree import DecisionTreeRegressor\n",
    "model = DecisionTreeRegressor(max_depth = 10,random_state = 0)\n",
    "model.fit(x_train, y_train)\n",
    "model.score(x_test, y_test) # テストデータでの決定係数"
   ]
  },
  {
   "cell_type": "code",
   "execution_count": 43,
   "id": "ede4a72b-3aad-438f-a36d-6556e27be47c",
   "metadata": {},
   "outputs": [
    {
     "data": {
      "text/plain": [
       "ZN         0.000252\n",
       "INDUS      0.007301\n",
       "CHAS       0.000000\n",
       "NOX        0.001967\n",
       "RM         0.759547\n",
       "AGE        0.139388\n",
       "DIS        0.013635\n",
       "RAD        0.000404\n",
       "TAX        0.013975\n",
       "PTRATIO    0.001913\n",
       "B          0.003331\n",
       "LSTAT      0.058287\n",
       "dtype: float64"
      ]
     },
     "execution_count": 43,
     "metadata": {},
     "output_type": "execute_result"
    }
   ],
   "source": [
    "pd.Series(model.feature_importances_, index = x.columns)"
   ]
  },
  {
   "cell_type": "code",
   "execution_count": 1,
   "id": "0bd2b8bf-4dce-408a-9aeb-178ffe10c68e",
   "metadata": {},
   "outputs": [],
   "source": [
    "import random\n",
    "\n",
    "l = []\n",
    "for i in range(10):\n",
    "    l.append(i)"
   ]
  },
  {
   "cell_type": "code",
   "execution_count": 2,
   "id": "8f1160ce-c4f7-4cb1-aae4-b51e2bffe3d4",
   "metadata": {},
   "outputs": [
    {
     "data": {
      "text/plain": [
       "[0, 1, 2, 3, 4, 5, 6, 7, 8, 9]"
      ]
     },
     "execution_count": 2,
     "metadata": {},
     "output_type": "execute_result"
    }
   ],
   "source": [
    "l"
   ]
  },
  {
   "cell_type": "code",
   "execution_count": 4,
   "id": "1a601ef0-e6c1-4bb7-a741-058d8a21d53e",
   "metadata": {},
   "outputs": [
    {
     "data": {
      "text/plain": [
       "[4, 6, 7, 1, 5, 9, 3, 0, 2, 8]"
      ]
     },
     "execution_count": 4,
     "metadata": {},
     "output_type": "execute_result"
    }
   ],
   "source": [
    "random.shuffle(l)\n",
    "l"
   ]
  },
  {
   "cell_type": "code",
   "execution_count": 5,
   "id": "0d3a3636-24f3-4b4a-9a04-156335ebb3e1",
   "metadata": {},
   "outputs": [
    {
     "data": {
      "text/plain": [
       "[7, 2, 5, 1, 8, 9, 6, 0, 4, 3]"
      ]
     },
     "execution_count": 5,
     "metadata": {},
     "output_type": "execute_result"
    }
   ],
   "source": [
    "lr = random.sample(l, len(l))\n",
    "lr"
   ]
  },
  {
   "cell_type": "code",
   "execution_count": 6,
   "id": "ea077b24-6032-49b6-9d27-ec3ba896eb69",
   "metadata": {},
   "outputs": [
    {
     "data": {
      "text/plain": [
       "[8, 2, 4, 5, 0, 9, 3, 1, 6, 7]"
      ]
     },
     "execution_count": 6,
     "metadata": {},
     "output_type": "execute_result"
    }
   ],
   "source": [
    "lr = random.sample(l, len(l))\n",
    "lr"
   ]
  },
  {
   "cell_type": "code",
   "execution_count": null,
   "id": "c3db1e68-d4d7-456f-b9f2-db111eee8310",
   "metadata": {},
   "outputs": [],
   "source": []
  }
 ],
 "metadata": {
  "kernelspec": {
   "display_name": "Python 3",
   "language": "python",
   "name": "python3"
  },
  "language_info": {
   "codemirror_mode": {
    "name": "ipython",
    "version": 3
   },
   "file_extension": ".py",
   "mimetype": "text/x-python",
   "name": "python",
   "nbconvert_exporter": "python",
   "pygments_lexer": "ipython3",
   "version": "3.8.8"
  }
 },
 "nbformat": 4,
 "nbformat_minor": 5
}
